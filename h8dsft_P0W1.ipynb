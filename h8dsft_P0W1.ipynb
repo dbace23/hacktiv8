{
  "nbformat": 4,
  "nbformat_minor": 0,
  "metadata": {
    "colab": {
      "name": "h8dsft_P0W1.ipynb",
      "provenance": [],
      "collapsed_sections": [],
      "authorship_tag": "ABX9TyO+1cI0jEO1U+oSjCU47mm5",
      "include_colab_link": true
    },
    "kernelspec": {
      "name": "python3",
      "display_name": "Python 3"
    },
    "language_info": {
      "name": "python"
    }
  },
  "cells": [
    {
      "cell_type": "markdown",
      "metadata": {
        "id": "view-in-github",
        "colab_type": "text"
      },
      "source": [
        "<a href=\"https://colab.research.google.com/github/dbace23/hacktiv8/blob/main/h8dsft_P0W1.ipynb\" target=\"_parent\"><img src=\"https://colab.research.google.com/assets/colab-badge.svg\" alt=\"Open In Colab\"/></a>"
      ]
    },
    {
      "cell_type": "markdown",
      "metadata": {
        "id": "OVOHo64GNfpO"
      },
      "source": [
        "# Perkenalan\n",
        "Dataset yang digunakan menampilkan data terkait pokemon. Dimana tujuan ini adalah untuk mencari tahu \n",
        "1. overall best pokemon terkuat berdasarkan atribut hp, attack, defense, speed dengan mengkategorikan jumlah pokemon di category high, mid, low\n",
        "*   ini dilakukan dengan menampilkan atribut nilai hp, atack, defense, speed\n",
        "*   menambah segmen bin untuk setiap atribut \n",
        "*  mendapatkan nilai rata-rata\n",
        "2. melihat generasi terkuat\n",
        "3. melihat type 1 terkuat dalam generasi terkuat\n",
        "4. melihat berapa banyak yang lengedary diantara type 1 terkuat dalam generasi terkuat\n",
        "\n",
        "\n",
        "---\n",
        "\n",
        "\n",
        "Dengan ini, pemain game pokemon dapat memilih dan mengetahui pokemon terkuat dan juga mengetahui generasi dan type terkuat dan pada akhirnya pokemon game yang mana yang perlu dimainkan sesuai dengan generasinya."
      ]
    },
    {
      "cell_type": "markdown",
      "metadata": {
        "id": "6e_MGT1jLC0m"
      },
      "source": [
        "# Import Kaggle API"
      ]
    },
    {
      "cell_type": "code",
      "metadata": {
        "colab": {
          "base_uri": "https://localhost:8080/"
        },
        "id": "LId-3IomLQHc",
        "outputId": "246b72fc-5e09-4c1d-ee7b-a7da202f41fc"
      },
      "source": [
        "! pip install kaggle\n",
        "! mkdir ~/.kaggle\n",
        "! cp kaggle.json ~/.kaggle/\n",
        "! chmod 600 ~/.kaggle/kaggle.json\n",
        "! kaggle datasets download abcsds/pokemon -f Pokemon.csv"
      ],
      "execution_count": 85,
      "outputs": [
        {
          "output_type": "stream",
          "name": "stdout",
          "text": [
            "Requirement already satisfied: kaggle in /usr/local/lib/python3.7/dist-packages (1.5.12)\n",
            "Requirement already satisfied: requests in /usr/local/lib/python3.7/dist-packages (from kaggle) (2.23.0)\n",
            "Requirement already satisfied: certifi in /usr/local/lib/python3.7/dist-packages (from kaggle) (2021.10.8)\n",
            "Requirement already satisfied: six>=1.10 in /usr/local/lib/python3.7/dist-packages (from kaggle) (1.15.0)\n",
            "Requirement already satisfied: python-dateutil in /usr/local/lib/python3.7/dist-packages (from kaggle) (2.8.2)\n",
            "Requirement already satisfied: python-slugify in /usr/local/lib/python3.7/dist-packages (from kaggle) (5.0.2)\n",
            "Requirement already satisfied: urllib3 in /usr/local/lib/python3.7/dist-packages (from kaggle) (1.24.3)\n",
            "Requirement already satisfied: tqdm in /usr/local/lib/python3.7/dist-packages (from kaggle) (4.62.3)\n",
            "Requirement already satisfied: text-unidecode>=1.3 in /usr/local/lib/python3.7/dist-packages (from python-slugify->kaggle) (1.3)\n",
            "Requirement already satisfied: chardet<4,>=3.0.2 in /usr/local/lib/python3.7/dist-packages (from requests->kaggle) (3.0.4)\n",
            "Requirement already satisfied: idna<3,>=2.5 in /usr/local/lib/python3.7/dist-packages (from requests->kaggle) (2.10)\n",
            "mkdir: cannot create directory ‘/root/.kaggle’: File exists\n",
            "cp: cannot stat 'kaggle.json': No such file or directory\n",
            "chmod: cannot access '/root/.kaggle/kaggle.json': No such file or directory\n",
            "Traceback (most recent call last):\n",
            "  File \"/usr/local/bin/kaggle\", line 5, in <module>\n",
            "    from kaggle.cli import main\n",
            "  File \"/usr/local/lib/python2.7/dist-packages/kaggle/__init__.py\", line 23, in <module>\n",
            "    api.authenticate()\n",
            "  File \"/usr/local/lib/python2.7/dist-packages/kaggle/api/kaggle_api_extended.py\", line 146, in authenticate\n",
            "    self.config_file, self.config_dir))\n",
            "IOError: Could not find kaggle.json. Make sure it's located in /root/.kaggle. Or use the environment method.\n"
          ]
        }
      ]
    },
    {
      "cell_type": "markdown",
      "metadata": {
        "id": "rLOT6TftLUVe"
      },
      "source": [
        "# import libraries needed\n",
        "impor pandas dan numpy set as pd & np"
      ]
    },
    {
      "cell_type": "code",
      "metadata": {
        "id": "OnFMqtu8Ldfc"
      },
      "source": [
        "import numpy as np\n",
        "import pandas as pd"
      ],
      "execution_count": 86,
      "outputs": []
    },
    {
      "cell_type": "markdown",
      "metadata": {
        "id": "seJji7KILp9s"
      },
      "source": [
        "# Data Loading"
      ]
    },
    {
      "cell_type": "code",
      "metadata": {
        "colab": {
          "base_uri": "https://localhost:8080/",
          "height": 419
        },
        "id": "0nJ1nU2YLsRj",
        "outputId": "d74074eb-b6d9-4131-9024-0321f64bfb51"
      },
      "source": [
        "#define dataset as df\n",
        "df = pd.read_csv(\"Pokemon.csv\")\n",
        "\n",
        "#cek data bisa terlihat\n",
        "df"
      ],
      "execution_count": 87,
      "outputs": [
        {
          "output_type": "execute_result",
          "data": {
            "text/html": [
              "<div>\n",
              "<style scoped>\n",
              "    .dataframe tbody tr th:only-of-type {\n",
              "        vertical-align: middle;\n",
              "    }\n",
              "\n",
              "    .dataframe tbody tr th {\n",
              "        vertical-align: top;\n",
              "    }\n",
              "\n",
              "    .dataframe thead th {\n",
              "        text-align: right;\n",
              "    }\n",
              "</style>\n",
              "<table border=\"1\" class=\"dataframe\">\n",
              "  <thead>\n",
              "    <tr style=\"text-align: right;\">\n",
              "      <th></th>\n",
              "      <th>#</th>\n",
              "      <th>Name</th>\n",
              "      <th>Type 1</th>\n",
              "      <th>Type 2</th>\n",
              "      <th>Total</th>\n",
              "      <th>HP</th>\n",
              "      <th>Attack</th>\n",
              "      <th>Defense</th>\n",
              "      <th>Sp. Atk</th>\n",
              "      <th>Sp. Def</th>\n",
              "      <th>Speed</th>\n",
              "      <th>Generation</th>\n",
              "      <th>Legendary</th>\n",
              "    </tr>\n",
              "  </thead>\n",
              "  <tbody>\n",
              "    <tr>\n",
              "      <th>0</th>\n",
              "      <td>1</td>\n",
              "      <td>Bulbasaur</td>\n",
              "      <td>Grass</td>\n",
              "      <td>Poison</td>\n",
              "      <td>318</td>\n",
              "      <td>45</td>\n",
              "      <td>49</td>\n",
              "      <td>49</td>\n",
              "      <td>65</td>\n",
              "      <td>65</td>\n",
              "      <td>45</td>\n",
              "      <td>1</td>\n",
              "      <td>False</td>\n",
              "    </tr>\n",
              "    <tr>\n",
              "      <th>1</th>\n",
              "      <td>2</td>\n",
              "      <td>Ivysaur</td>\n",
              "      <td>Grass</td>\n",
              "      <td>Poison</td>\n",
              "      <td>405</td>\n",
              "      <td>60</td>\n",
              "      <td>62</td>\n",
              "      <td>63</td>\n",
              "      <td>80</td>\n",
              "      <td>80</td>\n",
              "      <td>60</td>\n",
              "      <td>1</td>\n",
              "      <td>False</td>\n",
              "    </tr>\n",
              "    <tr>\n",
              "      <th>2</th>\n",
              "      <td>3</td>\n",
              "      <td>Venusaur</td>\n",
              "      <td>Grass</td>\n",
              "      <td>Poison</td>\n",
              "      <td>525</td>\n",
              "      <td>80</td>\n",
              "      <td>82</td>\n",
              "      <td>83</td>\n",
              "      <td>100</td>\n",
              "      <td>100</td>\n",
              "      <td>80</td>\n",
              "      <td>1</td>\n",
              "      <td>False</td>\n",
              "    </tr>\n",
              "    <tr>\n",
              "      <th>3</th>\n",
              "      <td>3</td>\n",
              "      <td>VenusaurMega Venusaur</td>\n",
              "      <td>Grass</td>\n",
              "      <td>Poison</td>\n",
              "      <td>625</td>\n",
              "      <td>80</td>\n",
              "      <td>100</td>\n",
              "      <td>123</td>\n",
              "      <td>122</td>\n",
              "      <td>120</td>\n",
              "      <td>80</td>\n",
              "      <td>1</td>\n",
              "      <td>False</td>\n",
              "    </tr>\n",
              "    <tr>\n",
              "      <th>4</th>\n",
              "      <td>4</td>\n",
              "      <td>Charmander</td>\n",
              "      <td>Fire</td>\n",
              "      <td>NaN</td>\n",
              "      <td>309</td>\n",
              "      <td>39</td>\n",
              "      <td>52</td>\n",
              "      <td>43</td>\n",
              "      <td>60</td>\n",
              "      <td>50</td>\n",
              "      <td>65</td>\n",
              "      <td>1</td>\n",
              "      <td>False</td>\n",
              "    </tr>\n",
              "    <tr>\n",
              "      <th>...</th>\n",
              "      <td>...</td>\n",
              "      <td>...</td>\n",
              "      <td>...</td>\n",
              "      <td>...</td>\n",
              "      <td>...</td>\n",
              "      <td>...</td>\n",
              "      <td>...</td>\n",
              "      <td>...</td>\n",
              "      <td>...</td>\n",
              "      <td>...</td>\n",
              "      <td>...</td>\n",
              "      <td>...</td>\n",
              "      <td>...</td>\n",
              "    </tr>\n",
              "    <tr>\n",
              "      <th>795</th>\n",
              "      <td>719</td>\n",
              "      <td>Diancie</td>\n",
              "      <td>Rock</td>\n",
              "      <td>Fairy</td>\n",
              "      <td>600</td>\n",
              "      <td>50</td>\n",
              "      <td>100</td>\n",
              "      <td>150</td>\n",
              "      <td>100</td>\n",
              "      <td>150</td>\n",
              "      <td>50</td>\n",
              "      <td>6</td>\n",
              "      <td>True</td>\n",
              "    </tr>\n",
              "    <tr>\n",
              "      <th>796</th>\n",
              "      <td>719</td>\n",
              "      <td>DiancieMega Diancie</td>\n",
              "      <td>Rock</td>\n",
              "      <td>Fairy</td>\n",
              "      <td>700</td>\n",
              "      <td>50</td>\n",
              "      <td>160</td>\n",
              "      <td>110</td>\n",
              "      <td>160</td>\n",
              "      <td>110</td>\n",
              "      <td>110</td>\n",
              "      <td>6</td>\n",
              "      <td>True</td>\n",
              "    </tr>\n",
              "    <tr>\n",
              "      <th>797</th>\n",
              "      <td>720</td>\n",
              "      <td>HoopaHoopa Confined</td>\n",
              "      <td>Psychic</td>\n",
              "      <td>Ghost</td>\n",
              "      <td>600</td>\n",
              "      <td>80</td>\n",
              "      <td>110</td>\n",
              "      <td>60</td>\n",
              "      <td>150</td>\n",
              "      <td>130</td>\n",
              "      <td>70</td>\n",
              "      <td>6</td>\n",
              "      <td>True</td>\n",
              "    </tr>\n",
              "    <tr>\n",
              "      <th>798</th>\n",
              "      <td>720</td>\n",
              "      <td>HoopaHoopa Unbound</td>\n",
              "      <td>Psychic</td>\n",
              "      <td>Dark</td>\n",
              "      <td>680</td>\n",
              "      <td>80</td>\n",
              "      <td>160</td>\n",
              "      <td>60</td>\n",
              "      <td>170</td>\n",
              "      <td>130</td>\n",
              "      <td>80</td>\n",
              "      <td>6</td>\n",
              "      <td>True</td>\n",
              "    </tr>\n",
              "    <tr>\n",
              "      <th>799</th>\n",
              "      <td>721</td>\n",
              "      <td>Volcanion</td>\n",
              "      <td>Fire</td>\n",
              "      <td>Water</td>\n",
              "      <td>600</td>\n",
              "      <td>80</td>\n",
              "      <td>110</td>\n",
              "      <td>120</td>\n",
              "      <td>130</td>\n",
              "      <td>90</td>\n",
              "      <td>70</td>\n",
              "      <td>6</td>\n",
              "      <td>True</td>\n",
              "    </tr>\n",
              "  </tbody>\n",
              "</table>\n",
              "<p>800 rows × 13 columns</p>\n",
              "</div>"
            ],
            "text/plain": [
              "       #                   Name   Type 1  ... Speed  Generation  Legendary\n",
              "0      1              Bulbasaur    Grass  ...    45           1      False\n",
              "1      2                Ivysaur    Grass  ...    60           1      False\n",
              "2      3               Venusaur    Grass  ...    80           1      False\n",
              "3      3  VenusaurMega Venusaur    Grass  ...    80           1      False\n",
              "4      4             Charmander     Fire  ...    65           1      False\n",
              "..   ...                    ...      ...  ...   ...         ...        ...\n",
              "795  719                Diancie     Rock  ...    50           6       True\n",
              "796  719    DiancieMega Diancie     Rock  ...   110           6       True\n",
              "797  720    HoopaHoopa Confined  Psychic  ...    70           6       True\n",
              "798  720     HoopaHoopa Unbound  Psychic  ...    80           6       True\n",
              "799  721              Volcanion     Fire  ...    70           6       True\n",
              "\n",
              "[800 rows x 13 columns]"
            ]
          },
          "metadata": {},
          "execution_count": 87
        }
      ]
    },
    {
      "cell_type": "code",
      "metadata": {
        "colab": {
          "base_uri": "https://localhost:8080/"
        },
        "id": "_ozgbhcxMkrj",
        "outputId": "41beab6d-2ab1-4b7d-9bde-3c33ac7db3eb"
      },
      "source": [
        "#periksa sederhana\n",
        "df.info()\n",
        "#terdapat beberapa object perlu diconvert ke type {Name,Type  1,Type 2}\n",
        "#terdapat null objects di Type 2"
      ],
      "execution_count": 88,
      "outputs": [
        {
          "output_type": "stream",
          "name": "stdout",
          "text": [
            "<class 'pandas.core.frame.DataFrame'>\n",
            "RangeIndex: 800 entries, 0 to 799\n",
            "Data columns (total 13 columns):\n",
            " #   Column      Non-Null Count  Dtype \n",
            "---  ------      --------------  ----- \n",
            " 0   #           800 non-null    int64 \n",
            " 1   Name        800 non-null    object\n",
            " 2   Type 1      800 non-null    object\n",
            " 3   Type 2      414 non-null    object\n",
            " 4   Total       800 non-null    int64 \n",
            " 5   HP          800 non-null    int64 \n",
            " 6   Attack      800 non-null    int64 \n",
            " 7   Defense     800 non-null    int64 \n",
            " 8   Sp. Atk     800 non-null    int64 \n",
            " 9   Sp. Def     800 non-null    int64 \n",
            " 10  Speed       800 non-null    int64 \n",
            " 11  Generation  800 non-null    int64 \n",
            " 12  Legendary   800 non-null    bool  \n",
            "dtypes: bool(1), int64(9), object(3)\n",
            "memory usage: 75.9+ KB\n"
          ]
        }
      ]
    },
    {
      "cell_type": "markdown",
      "metadata": {
        "id": "jRfax3OZRjlu"
      },
      "source": [
        "# Data Cleaning"
      ]
    },
    {
      "cell_type": "code",
      "metadata": {
        "colab": {
          "base_uri": "https://localhost:8080/",
          "height": 204
        },
        "id": "sPSqj-CvRnBW",
        "outputId": "acea17e6-3a9b-4163-c3e1-231e85c558ba"
      },
      "source": [
        "#make copy untuk data column yang diperlukan tanpa mengapus kolom utama\n",
        "selected_columns = df[[\"Name\",\"HP\",\"Attack\",\"Defense\", \"Speed\",\"Type 1\", \"Generation\",\"Legendary\"]]\n",
        "filtered_df=selected_columns.copy()\n",
        "#check jika sudah benar dan tercopy datanya\n",
        "filtered_df.head()\n"
      ],
      "execution_count": 89,
      "outputs": [
        {
          "output_type": "execute_result",
          "data": {
            "text/html": [
              "<div>\n",
              "<style scoped>\n",
              "    .dataframe tbody tr th:only-of-type {\n",
              "        vertical-align: middle;\n",
              "    }\n",
              "\n",
              "    .dataframe tbody tr th {\n",
              "        vertical-align: top;\n",
              "    }\n",
              "\n",
              "    .dataframe thead th {\n",
              "        text-align: right;\n",
              "    }\n",
              "</style>\n",
              "<table border=\"1\" class=\"dataframe\">\n",
              "  <thead>\n",
              "    <tr style=\"text-align: right;\">\n",
              "      <th></th>\n",
              "      <th>Name</th>\n",
              "      <th>HP</th>\n",
              "      <th>Attack</th>\n",
              "      <th>Defense</th>\n",
              "      <th>Speed</th>\n",
              "      <th>Type 1</th>\n",
              "      <th>Generation</th>\n",
              "      <th>Legendary</th>\n",
              "    </tr>\n",
              "  </thead>\n",
              "  <tbody>\n",
              "    <tr>\n",
              "      <th>0</th>\n",
              "      <td>Bulbasaur</td>\n",
              "      <td>45</td>\n",
              "      <td>49</td>\n",
              "      <td>49</td>\n",
              "      <td>45</td>\n",
              "      <td>Grass</td>\n",
              "      <td>1</td>\n",
              "      <td>False</td>\n",
              "    </tr>\n",
              "    <tr>\n",
              "      <th>1</th>\n",
              "      <td>Ivysaur</td>\n",
              "      <td>60</td>\n",
              "      <td>62</td>\n",
              "      <td>63</td>\n",
              "      <td>60</td>\n",
              "      <td>Grass</td>\n",
              "      <td>1</td>\n",
              "      <td>False</td>\n",
              "    </tr>\n",
              "    <tr>\n",
              "      <th>2</th>\n",
              "      <td>Venusaur</td>\n",
              "      <td>80</td>\n",
              "      <td>82</td>\n",
              "      <td>83</td>\n",
              "      <td>80</td>\n",
              "      <td>Grass</td>\n",
              "      <td>1</td>\n",
              "      <td>False</td>\n",
              "    </tr>\n",
              "    <tr>\n",
              "      <th>3</th>\n",
              "      <td>VenusaurMega Venusaur</td>\n",
              "      <td>80</td>\n",
              "      <td>100</td>\n",
              "      <td>123</td>\n",
              "      <td>80</td>\n",
              "      <td>Grass</td>\n",
              "      <td>1</td>\n",
              "      <td>False</td>\n",
              "    </tr>\n",
              "    <tr>\n",
              "      <th>4</th>\n",
              "      <td>Charmander</td>\n",
              "      <td>39</td>\n",
              "      <td>52</td>\n",
              "      <td>43</td>\n",
              "      <td>65</td>\n",
              "      <td>Fire</td>\n",
              "      <td>1</td>\n",
              "      <td>False</td>\n",
              "    </tr>\n",
              "  </tbody>\n",
              "</table>\n",
              "</div>"
            ],
            "text/plain": [
              "                    Name  HP  Attack  ...  Type 1  Generation Legendary\n",
              "0              Bulbasaur  45      49  ...   Grass           1     False\n",
              "1                Ivysaur  60      62  ...   Grass           1     False\n",
              "2               Venusaur  80      82  ...   Grass           1     False\n",
              "3  VenusaurMega Venusaur  80     100  ...   Grass           1     False\n",
              "4             Charmander  39      52  ...    Fire           1     False\n",
              "\n",
              "[5 rows x 8 columns]"
            ]
          },
          "metadata": {},
          "execution_count": 89
        }
      ]
    },
    {
      "cell_type": "code",
      "metadata": {
        "colab": {
          "base_uri": "https://localhost:8080/"
        },
        "id": "3I8UHOhDT4b0",
        "outputId": "6f748980-7710-462f-bd47-5910fb816cdc"
      },
      "source": [
        "#check untuk blank\n",
        "filtered_df.isnull().sum()\n",
        "\n",
        "#jika ada null maka dihilangkan row dan gunakan name baru\n",
        "#df_new_rows = filtered_df.dropna()"
      ],
      "execution_count": 90,
      "outputs": [
        {
          "output_type": "execute_result",
          "data": {
            "text/plain": [
              "Name          0\n",
              "HP            0\n",
              "Attack        0\n",
              "Defense       0\n",
              "Speed         0\n",
              "Type 1        0\n",
              "Generation    0\n",
              "Legendary     0\n",
              "dtype: int64"
            ]
          },
          "metadata": {},
          "execution_count": 90
        }
      ]
    },
    {
      "cell_type": "code",
      "metadata": {
        "colab": {
          "base_uri": "https://localhost:8080/"
        },
        "id": "80qaDwEeSGrc",
        "outputId": "2ff57029-779a-4942-900b-ee92c4144ed5"
      },
      "source": [
        "#ganti object name dan cek dtype\n",
        "filtered_df[\"Name\"] =filtered_df[\"Name\"].astype(\"string\")\n",
        "filtered_df[\"Legendary\"] =filtered_df[\"Legendary\"].astype(\"category\")\n",
        "filtered_df.info()\n",
        "\n"
      ],
      "execution_count": 91,
      "outputs": [
        {
          "output_type": "stream",
          "name": "stdout",
          "text": [
            "<class 'pandas.core.frame.DataFrame'>\n",
            "RangeIndex: 800 entries, 0 to 799\n",
            "Data columns (total 8 columns):\n",
            " #   Column      Non-Null Count  Dtype   \n",
            "---  ------      --------------  -----   \n",
            " 0   Name        800 non-null    string  \n",
            " 1   HP          800 non-null    int64   \n",
            " 2   Attack      800 non-null    int64   \n",
            " 3   Defense     800 non-null    int64   \n",
            " 4   Speed       800 non-null    int64   \n",
            " 5   Type 1      800 non-null    object  \n",
            " 6   Generation  800 non-null    int64   \n",
            " 7   Legendary   800 non-null    category\n",
            "dtypes: category(1), int64(5), object(1), string(1)\n",
            "memory usage: 44.8+ KB\n"
          ]
        }
      ]
    },
    {
      "cell_type": "code",
      "metadata": {
        "colab": {
          "base_uri": "https://localhost:8080/"
        },
        "id": "Y1wnAlpBYAne",
        "outputId": "41944e96-9f97-4eba-9b23-fd8484008d92"
      },
      "source": [
        "#check ada duplicate value di nama, result harusnya true jika false maka di drop\n",
        "#dengan cara dataset.drop_duplicates\n",
        "filtered_df[\"Name\"].is_unique"
      ],
      "execution_count": 92,
      "outputs": [
        {
          "output_type": "execute_result",
          "data": {
            "text/plain": [
              "True"
            ]
          },
          "metadata": {},
          "execution_count": 92
        }
      ]
    },
    {
      "cell_type": "markdown",
      "metadata": {
        "id": "9Cx5mcKmW65H"
      },
      "source": [
        "# Ekplorasi data"
      ]
    },
    {
      "cell_type": "code",
      "metadata": {
        "colab": {
          "base_uri": "https://localhost:8080/"
        },
        "id": "62ulwPSjXCYF",
        "outputId": "4498b2ac-cafa-4468-a246-e08c2d5c45dc"
      },
      "source": [
        "#create new column for hp,attack, defense,speed scores dengan membagi ke 10 bins dan assign value berdasarkan category, dimana semakin besar angkanya semakin bagus\n",
        "#dibuat 10 category bin agar mendapat lebih rinci\n",
        "filtered_df[\"HP_score\"] = pd.qcut(filtered_df[\"HP\"], 10, [\"1\",\"2\",\"3\",\"4\",\"5\",\"6\",\"7\",\"8\",\"9\",\"10\"])\n",
        "filtered_df[\"Attack_score\"] = pd.qcut(filtered_df[\"Attack\"], 10, [\"1\",\"2\",\"3\",\"4\",\"5\",\"6\",\"7\",\"8\",\"9\",\"10\"])\n",
        "filtered_df[\"Defense_score\"] = pd.qcut(filtered_df[\"Defense\"], 10, [\"1\",\"2\",\"3\",\"4\",\"5\",\"6\",\"7\",\"8\",\"9\",\"10\"])\n",
        "filtered_df[\"Speed_score\"] = pd.qcut(filtered_df[\"Speed\"], 10, [\"1\",\"2\",\"3\",\"4\",\"5\",\"6\",\"7\",\"8\",\"9\",\"10\"])\n",
        "\n",
        "#ubah nilai diatas menjadi integer\n",
        "filtered_df[[\"HP_score\",\"Attack_score\",\"Defense_score\",\"Speed_score\"]] =filtered_df[[\"HP_score\",\"Attack_score\",\"Defense_score\",\"Speed_score\"]].astype(\"float32\")\n",
        "print(filtered_df.info())"
      ],
      "execution_count": 93,
      "outputs": [
        {
          "output_type": "stream",
          "name": "stdout",
          "text": [
            "<class 'pandas.core.frame.DataFrame'>\n",
            "RangeIndex: 800 entries, 0 to 799\n",
            "Data columns (total 12 columns):\n",
            " #   Column         Non-Null Count  Dtype   \n",
            "---  ------         --------------  -----   \n",
            " 0   Name           800 non-null    string  \n",
            " 1   HP             800 non-null    int64   \n",
            " 2   Attack         800 non-null    int64   \n",
            " 3   Defense        800 non-null    int64   \n",
            " 4   Speed          800 non-null    int64   \n",
            " 5   Type 1         800 non-null    object  \n",
            " 6   Generation     800 non-null    int64   \n",
            " 7   Legendary      800 non-null    category\n",
            " 8   HP_score       800 non-null    float32 \n",
            " 9   Attack_score   800 non-null    float32 \n",
            " 10  Defense_score  800 non-null    float32 \n",
            " 11  Speed_score    800 non-null    float32 \n",
            "dtypes: category(1), float32(4), int64(5), object(1), string(1)\n",
            "memory usage: 57.2+ KB\n",
            "None\n"
          ]
        }
      ]
    },
    {
      "cell_type": "code",
      "metadata": {
        "colab": {
          "base_uri": "https://localhost:8080/",
          "height": 419
        },
        "id": "ZRahDOxnjdNY",
        "outputId": "5513b1aa-7e66-46e7-85c0-535553969608"
      },
      "source": [
        "#mendapatkan hads score dengan average dari hpscore, attack score, defense score dan speed score, dimana semakin tinggi scorenya maka semakin bagus\n",
        "filtered_df[\"HADS_score\"] = filtered_df[[\"Attack_score\",\"Defense_score\",\"HP_score\",\"Speed_score\"]].mean(axis=1)\n",
        "filtered_df "
      ],
      "execution_count": 94,
      "outputs": [
        {
          "output_type": "execute_result",
          "data": {
            "text/html": [
              "<div>\n",
              "<style scoped>\n",
              "    .dataframe tbody tr th:only-of-type {\n",
              "        vertical-align: middle;\n",
              "    }\n",
              "\n",
              "    .dataframe tbody tr th {\n",
              "        vertical-align: top;\n",
              "    }\n",
              "\n",
              "    .dataframe thead th {\n",
              "        text-align: right;\n",
              "    }\n",
              "</style>\n",
              "<table border=\"1\" class=\"dataframe\">\n",
              "  <thead>\n",
              "    <tr style=\"text-align: right;\">\n",
              "      <th></th>\n",
              "      <th>Name</th>\n",
              "      <th>HP</th>\n",
              "      <th>Attack</th>\n",
              "      <th>Defense</th>\n",
              "      <th>Speed</th>\n",
              "      <th>Type 1</th>\n",
              "      <th>Generation</th>\n",
              "      <th>Legendary</th>\n",
              "      <th>HP_score</th>\n",
              "      <th>Attack_score</th>\n",
              "      <th>Defense_score</th>\n",
              "      <th>Speed_score</th>\n",
              "      <th>HADS_score</th>\n",
              "    </tr>\n",
              "  </thead>\n",
              "  <tbody>\n",
              "    <tr>\n",
              "      <th>0</th>\n",
              "      <td>Bulbasaur</td>\n",
              "      <td>45</td>\n",
              "      <td>49</td>\n",
              "      <td>49</td>\n",
              "      <td>45</td>\n",
              "      <td>Grass</td>\n",
              "      <td>1</td>\n",
              "      <td>False</td>\n",
              "      <td>2.0</td>\n",
              "      <td>2.0</td>\n",
              "      <td>3.0</td>\n",
              "      <td>3.0</td>\n",
              "      <td>2.50</td>\n",
              "    </tr>\n",
              "    <tr>\n",
              "      <th>1</th>\n",
              "      <td>Ivysaur</td>\n",
              "      <td>60</td>\n",
              "      <td>62</td>\n",
              "      <td>63</td>\n",
              "      <td>60</td>\n",
              "      <td>Grass</td>\n",
              "      <td>1</td>\n",
              "      <td>False</td>\n",
              "      <td>4.0</td>\n",
              "      <td>4.0</td>\n",
              "      <td>5.0</td>\n",
              "      <td>5.0</td>\n",
              "      <td>4.50</td>\n",
              "    </tr>\n",
              "    <tr>\n",
              "      <th>2</th>\n",
              "      <td>Venusaur</td>\n",
              "      <td>80</td>\n",
              "      <td>82</td>\n",
              "      <td>83</td>\n",
              "      <td>80</td>\n",
              "      <td>Grass</td>\n",
              "      <td>1</td>\n",
              "      <td>False</td>\n",
              "      <td>8.0</td>\n",
              "      <td>6.0</td>\n",
              "      <td>7.0</td>\n",
              "      <td>7.0</td>\n",
              "      <td>7.00</td>\n",
              "    </tr>\n",
              "    <tr>\n",
              "      <th>3</th>\n",
              "      <td>VenusaurMega Venusaur</td>\n",
              "      <td>80</td>\n",
              "      <td>100</td>\n",
              "      <td>123</td>\n",
              "      <td>80</td>\n",
              "      <td>Grass</td>\n",
              "      <td>1</td>\n",
              "      <td>False</td>\n",
              "      <td>8.0</td>\n",
              "      <td>8.0</td>\n",
              "      <td>10.0</td>\n",
              "      <td>7.0</td>\n",
              "      <td>8.25</td>\n",
              "    </tr>\n",
              "    <tr>\n",
              "      <th>4</th>\n",
              "      <td>Charmander</td>\n",
              "      <td>39</td>\n",
              "      <td>52</td>\n",
              "      <td>43</td>\n",
              "      <td>65</td>\n",
              "      <td>Fire</td>\n",
              "      <td>1</td>\n",
              "      <td>False</td>\n",
              "      <td>1.0</td>\n",
              "      <td>3.0</td>\n",
              "      <td>2.0</td>\n",
              "      <td>5.0</td>\n",
              "      <td>2.75</td>\n",
              "    </tr>\n",
              "    <tr>\n",
              "      <th>...</th>\n",
              "      <td>...</td>\n",
              "      <td>...</td>\n",
              "      <td>...</td>\n",
              "      <td>...</td>\n",
              "      <td>...</td>\n",
              "      <td>...</td>\n",
              "      <td>...</td>\n",
              "      <td>...</td>\n",
              "      <td>...</td>\n",
              "      <td>...</td>\n",
              "      <td>...</td>\n",
              "      <td>...</td>\n",
              "      <td>...</td>\n",
              "    </tr>\n",
              "    <tr>\n",
              "      <th>795</th>\n",
              "      <td>Diancie</td>\n",
              "      <td>50</td>\n",
              "      <td>100</td>\n",
              "      <td>150</td>\n",
              "      <td>50</td>\n",
              "      <td>Rock</td>\n",
              "      <td>6</td>\n",
              "      <td>True</td>\n",
              "      <td>2.0</td>\n",
              "      <td>8.0</td>\n",
              "      <td>10.0</td>\n",
              "      <td>3.0</td>\n",
              "      <td>5.75</td>\n",
              "    </tr>\n",
              "    <tr>\n",
              "      <th>796</th>\n",
              "      <td>DiancieMega Diancie</td>\n",
              "      <td>50</td>\n",
              "      <td>160</td>\n",
              "      <td>110</td>\n",
              "      <td>110</td>\n",
              "      <td>Rock</td>\n",
              "      <td>6</td>\n",
              "      <td>True</td>\n",
              "      <td>2.0</td>\n",
              "      <td>10.0</td>\n",
              "      <td>9.0</td>\n",
              "      <td>10.0</td>\n",
              "      <td>7.75</td>\n",
              "    </tr>\n",
              "    <tr>\n",
              "      <th>797</th>\n",
              "      <td>HoopaHoopa Confined</td>\n",
              "      <td>80</td>\n",
              "      <td>110</td>\n",
              "      <td>60</td>\n",
              "      <td>70</td>\n",
              "      <td>Psychic</td>\n",
              "      <td>6</td>\n",
              "      <td>True</td>\n",
              "      <td>8.0</td>\n",
              "      <td>9.0</td>\n",
              "      <td>4.0</td>\n",
              "      <td>6.0</td>\n",
              "      <td>6.75</td>\n",
              "    </tr>\n",
              "    <tr>\n",
              "      <th>798</th>\n",
              "      <td>HoopaHoopa Unbound</td>\n",
              "      <td>80</td>\n",
              "      <td>160</td>\n",
              "      <td>60</td>\n",
              "      <td>80</td>\n",
              "      <td>Psychic</td>\n",
              "      <td>6</td>\n",
              "      <td>True</td>\n",
              "      <td>8.0</td>\n",
              "      <td>10.0</td>\n",
              "      <td>4.0</td>\n",
              "      <td>7.0</td>\n",
              "      <td>7.25</td>\n",
              "    </tr>\n",
              "    <tr>\n",
              "      <th>799</th>\n",
              "      <td>Volcanion</td>\n",
              "      <td>80</td>\n",
              "      <td>110</td>\n",
              "      <td>120</td>\n",
              "      <td>70</td>\n",
              "      <td>Fire</td>\n",
              "      <td>6</td>\n",
              "      <td>True</td>\n",
              "      <td>8.0</td>\n",
              "      <td>9.0</td>\n",
              "      <td>10.0</td>\n",
              "      <td>6.0</td>\n",
              "      <td>8.25</td>\n",
              "    </tr>\n",
              "  </tbody>\n",
              "</table>\n",
              "<p>800 rows × 13 columns</p>\n",
              "</div>"
            ],
            "text/plain": [
              "                      Name  HP  Attack  ...  Defense_score  Speed_score HADS_score\n",
              "0                Bulbasaur  45      49  ...            3.0          3.0       2.50\n",
              "1                  Ivysaur  60      62  ...            5.0          5.0       4.50\n",
              "2                 Venusaur  80      82  ...            7.0          7.0       7.00\n",
              "3    VenusaurMega Venusaur  80     100  ...           10.0          7.0       8.25\n",
              "4               Charmander  39      52  ...            2.0          5.0       2.75\n",
              "..                     ...  ..     ...  ...            ...          ...        ...\n",
              "795                Diancie  50     100  ...           10.0          3.0       5.75\n",
              "796    DiancieMega Diancie  50     160  ...            9.0         10.0       7.75\n",
              "797    HoopaHoopa Confined  80     110  ...            4.0          6.0       6.75\n",
              "798     HoopaHoopa Unbound  80     160  ...            4.0          7.0       7.25\n",
              "799              Volcanion  80     110  ...           10.0          6.0       8.25\n",
              "\n",
              "[800 rows x 13 columns]"
            ]
          },
          "metadata": {},
          "execution_count": 94
        }
      ]
    },
    {
      "cell_type": "code",
      "metadata": {
        "colab": {
          "base_uri": "https://localhost:8080/"
        },
        "id": "fMJGIZEVmFuc",
        "outputId": "002b2233-0420-40e4-c848-4482f68aaf87"
      },
      "source": [
        "#membuat column baru bernama category dengan 3 category top(>8),mid(4-7), bottom(1-3) based on HASD_score\n",
        "# kondisi yang akan dipenuhi\n",
        "conditions = [\n",
        "    (filtered_df[\"HADS_score\"] > 0) & (filtered_df[\"HADS_score\"] < 4.0) ,\n",
        "    (filtered_df[\"HADS_score\"] > 3.0) & (filtered_df[\"HADS_score\"] < 8.0) ,\n",
        "    (filtered_df[\"HADS_score\"] > 7.0) \n",
        "]\n",
        "#penamaan untuk setiap kondisi yang dipenuhi\n",
        "values = [\"Low\", \"Mid\", \"High\"]\n",
        "\n",
        "#membuat kolum baru menggunakan kondisi dan valus yang dibuat\n",
        "filtered_df[\"Category\"] = np.select(conditions, values)\n",
        "\n",
        "#check apabila sudah tercipta kolum baru dan benar\n",
        "filtered_df[\"Category\"].unique()"
      ],
      "execution_count": 95,
      "outputs": [
        {
          "output_type": "execute_result",
          "data": {
            "text/plain": [
              "array(['Low', 'Mid', 'High'], dtype=object)"
            ]
          },
          "metadata": {},
          "execution_count": 95
        }
      ]
    },
    {
      "cell_type": "code",
      "metadata": {
        "colab": {
          "base_uri": "https://localhost:8080/"
        },
        "id": "7E0IO9r376Ez",
        "outputId": "9db6e817-af85-4b11-f60c-cac9a032ae8b"
      },
      "source": [
        "#ganti dtype category\n",
        "filtered_df[\"Category\"] =filtered_df[\"Category\"].astype(\"string\")\n",
        "filtered_df[\"Category\"].dtype"
      ],
      "execution_count": 96,
      "outputs": [
        {
          "output_type": "execute_result",
          "data": {
            "text/plain": [
              "StringDtype"
            ]
          },
          "metadata": {},
          "execution_count": 96
        }
      ]
    },
    {
      "cell_type": "code",
      "metadata": {
        "colab": {
          "base_uri": "https://localhost:8080/",
          "height": 419
        },
        "id": "pQmKcVvHqmKB",
        "outputId": "a2881953-bd9f-42bf-91bd-b22fc910cdea"
      },
      "source": [
        "#drop kolom yang tidak diperlukan\n",
        "filtered_df.drop([\"HP_score\",\"Attack_score\",\"Defense_score\",\"Speed_score\"],axis=1, inplace=True)\n",
        "#rename kolom category ke overall stats\n",
        "filtered_df.rename(columns = {\"Category\":\"Overall Status\"}, inplace = True)\n",
        "filtered_df"
      ],
      "execution_count": 97,
      "outputs": [
        {
          "output_type": "execute_result",
          "data": {
            "text/html": [
              "<div>\n",
              "<style scoped>\n",
              "    .dataframe tbody tr th:only-of-type {\n",
              "        vertical-align: middle;\n",
              "    }\n",
              "\n",
              "    .dataframe tbody tr th {\n",
              "        vertical-align: top;\n",
              "    }\n",
              "\n",
              "    .dataframe thead th {\n",
              "        text-align: right;\n",
              "    }\n",
              "</style>\n",
              "<table border=\"1\" class=\"dataframe\">\n",
              "  <thead>\n",
              "    <tr style=\"text-align: right;\">\n",
              "      <th></th>\n",
              "      <th>Name</th>\n",
              "      <th>HP</th>\n",
              "      <th>Attack</th>\n",
              "      <th>Defense</th>\n",
              "      <th>Speed</th>\n",
              "      <th>Type 1</th>\n",
              "      <th>Generation</th>\n",
              "      <th>Legendary</th>\n",
              "      <th>HADS_score</th>\n",
              "      <th>Overall Status</th>\n",
              "    </tr>\n",
              "  </thead>\n",
              "  <tbody>\n",
              "    <tr>\n",
              "      <th>0</th>\n",
              "      <td>Bulbasaur</td>\n",
              "      <td>45</td>\n",
              "      <td>49</td>\n",
              "      <td>49</td>\n",
              "      <td>45</td>\n",
              "      <td>Grass</td>\n",
              "      <td>1</td>\n",
              "      <td>False</td>\n",
              "      <td>2.50</td>\n",
              "      <td>Low</td>\n",
              "    </tr>\n",
              "    <tr>\n",
              "      <th>1</th>\n",
              "      <td>Ivysaur</td>\n",
              "      <td>60</td>\n",
              "      <td>62</td>\n",
              "      <td>63</td>\n",
              "      <td>60</td>\n",
              "      <td>Grass</td>\n",
              "      <td>1</td>\n",
              "      <td>False</td>\n",
              "      <td>4.50</td>\n",
              "      <td>Mid</td>\n",
              "    </tr>\n",
              "    <tr>\n",
              "      <th>2</th>\n",
              "      <td>Venusaur</td>\n",
              "      <td>80</td>\n",
              "      <td>82</td>\n",
              "      <td>83</td>\n",
              "      <td>80</td>\n",
              "      <td>Grass</td>\n",
              "      <td>1</td>\n",
              "      <td>False</td>\n",
              "      <td>7.00</td>\n",
              "      <td>Mid</td>\n",
              "    </tr>\n",
              "    <tr>\n",
              "      <th>3</th>\n",
              "      <td>VenusaurMega Venusaur</td>\n",
              "      <td>80</td>\n",
              "      <td>100</td>\n",
              "      <td>123</td>\n",
              "      <td>80</td>\n",
              "      <td>Grass</td>\n",
              "      <td>1</td>\n",
              "      <td>False</td>\n",
              "      <td>8.25</td>\n",
              "      <td>High</td>\n",
              "    </tr>\n",
              "    <tr>\n",
              "      <th>4</th>\n",
              "      <td>Charmander</td>\n",
              "      <td>39</td>\n",
              "      <td>52</td>\n",
              "      <td>43</td>\n",
              "      <td>65</td>\n",
              "      <td>Fire</td>\n",
              "      <td>1</td>\n",
              "      <td>False</td>\n",
              "      <td>2.75</td>\n",
              "      <td>Low</td>\n",
              "    </tr>\n",
              "    <tr>\n",
              "      <th>...</th>\n",
              "      <td>...</td>\n",
              "      <td>...</td>\n",
              "      <td>...</td>\n",
              "      <td>...</td>\n",
              "      <td>...</td>\n",
              "      <td>...</td>\n",
              "      <td>...</td>\n",
              "      <td>...</td>\n",
              "      <td>...</td>\n",
              "      <td>...</td>\n",
              "    </tr>\n",
              "    <tr>\n",
              "      <th>795</th>\n",
              "      <td>Diancie</td>\n",
              "      <td>50</td>\n",
              "      <td>100</td>\n",
              "      <td>150</td>\n",
              "      <td>50</td>\n",
              "      <td>Rock</td>\n",
              "      <td>6</td>\n",
              "      <td>True</td>\n",
              "      <td>5.75</td>\n",
              "      <td>Mid</td>\n",
              "    </tr>\n",
              "    <tr>\n",
              "      <th>796</th>\n",
              "      <td>DiancieMega Diancie</td>\n",
              "      <td>50</td>\n",
              "      <td>160</td>\n",
              "      <td>110</td>\n",
              "      <td>110</td>\n",
              "      <td>Rock</td>\n",
              "      <td>6</td>\n",
              "      <td>True</td>\n",
              "      <td>7.75</td>\n",
              "      <td>Mid</td>\n",
              "    </tr>\n",
              "    <tr>\n",
              "      <th>797</th>\n",
              "      <td>HoopaHoopa Confined</td>\n",
              "      <td>80</td>\n",
              "      <td>110</td>\n",
              "      <td>60</td>\n",
              "      <td>70</td>\n",
              "      <td>Psychic</td>\n",
              "      <td>6</td>\n",
              "      <td>True</td>\n",
              "      <td>6.75</td>\n",
              "      <td>Mid</td>\n",
              "    </tr>\n",
              "    <tr>\n",
              "      <th>798</th>\n",
              "      <td>HoopaHoopa Unbound</td>\n",
              "      <td>80</td>\n",
              "      <td>160</td>\n",
              "      <td>60</td>\n",
              "      <td>80</td>\n",
              "      <td>Psychic</td>\n",
              "      <td>6</td>\n",
              "      <td>True</td>\n",
              "      <td>7.25</td>\n",
              "      <td>Mid</td>\n",
              "    </tr>\n",
              "    <tr>\n",
              "      <th>799</th>\n",
              "      <td>Volcanion</td>\n",
              "      <td>80</td>\n",
              "      <td>110</td>\n",
              "      <td>120</td>\n",
              "      <td>70</td>\n",
              "      <td>Fire</td>\n",
              "      <td>6</td>\n",
              "      <td>True</td>\n",
              "      <td>8.25</td>\n",
              "      <td>High</td>\n",
              "    </tr>\n",
              "  </tbody>\n",
              "</table>\n",
              "<p>800 rows × 10 columns</p>\n",
              "</div>"
            ],
            "text/plain": [
              "                      Name  HP  Attack  ...  Legendary  HADS_score Overall Status\n",
              "0                Bulbasaur  45      49  ...      False        2.50            Low\n",
              "1                  Ivysaur  60      62  ...      False        4.50            Mid\n",
              "2                 Venusaur  80      82  ...      False        7.00            Mid\n",
              "3    VenusaurMega Venusaur  80     100  ...      False        8.25           High\n",
              "4               Charmander  39      52  ...      False        2.75            Low\n",
              "..                     ...  ..     ...  ...        ...         ...            ...\n",
              "795                Diancie  50     100  ...       True        5.75            Mid\n",
              "796    DiancieMega Diancie  50     160  ...       True        7.75            Mid\n",
              "797    HoopaHoopa Confined  80     110  ...       True        6.75            Mid\n",
              "798     HoopaHoopa Unbound  80     160  ...       True        7.25            Mid\n",
              "799              Volcanion  80     110  ...       True        8.25           High\n",
              "\n",
              "[800 rows x 10 columns]"
            ]
          },
          "metadata": {},
          "execution_count": 97
        }
      ]
    },
    {
      "cell_type": "markdown",
      "metadata": {
        "id": "qesO8Jq53xem"
      },
      "source": [
        "# Pengambilan Kesimpulan"
      ]
    },
    {
      "cell_type": "markdown",
      "metadata": {
        "id": "6Kx96ZZsH6wu"
      },
      "source": [
        "Pokemon diberikan nilai dengan mengkategorikan setiap atribut hp, attack defense, dan speed. Nilai rata-rata menjadi HADS score, dimana HADS score makin tinggi menunjukkan bahwa pokemon memiliki persentase menang yang lebih tinggi dibanding yang HADS rendah. Dimana ada 3 category High, Middle dan Low. Dalam dunia pokemon, diharapkan untuk mendapatkan pokemon terkuat sehingga berikut wawasan yang dapat diambil."
      ]
    },
    {
      "cell_type": "code",
      "metadata": {
        "colab": {
          "base_uri": "https://localhost:8080/",
          "height": 173
        },
        "id": "r8J6ezYT38M9",
        "outputId": "90fa36af-d31e-4af1-d312-e082d57380c8"
      },
      "source": [
        "#overall pokemon terkuat\n",
        "filtered_df.loc[filtered_df['HADS_score'] == filtered_df[\"HADS_score\"].max()]"
      ],
      "execution_count": 98,
      "outputs": [
        {
          "output_type": "execute_result",
          "data": {
            "text/html": [
              "<div>\n",
              "<style scoped>\n",
              "    .dataframe tbody tr th:only-of-type {\n",
              "        vertical-align: middle;\n",
              "    }\n",
              "\n",
              "    .dataframe tbody tr th {\n",
              "        vertical-align: top;\n",
              "    }\n",
              "\n",
              "    .dataframe thead th {\n",
              "        text-align: right;\n",
              "    }\n",
              "</style>\n",
              "<table border=\"1\" class=\"dataframe\">\n",
              "  <thead>\n",
              "    <tr style=\"text-align: right;\">\n",
              "      <th></th>\n",
              "      <th>Name</th>\n",
              "      <th>HP</th>\n",
              "      <th>Attack</th>\n",
              "      <th>Defense</th>\n",
              "      <th>Speed</th>\n",
              "      <th>Type 1</th>\n",
              "      <th>Generation</th>\n",
              "      <th>Legendary</th>\n",
              "      <th>HADS_score</th>\n",
              "      <th>Overall Status</th>\n",
              "    </tr>\n",
              "  </thead>\n",
              "  <tbody>\n",
              "    <tr>\n",
              "      <th>163</th>\n",
              "      <td>MewtwoMega Mewtwo X</td>\n",
              "      <td>106</td>\n",
              "      <td>190</td>\n",
              "      <td>100</td>\n",
              "      <td>130</td>\n",
              "      <td>Psychic</td>\n",
              "      <td>1</td>\n",
              "      <td>True</td>\n",
              "      <td>9.75</td>\n",
              "      <td>High</td>\n",
              "    </tr>\n",
              "    <tr>\n",
              "      <th>409</th>\n",
              "      <td>SalamenceMega Salamence</td>\n",
              "      <td>95</td>\n",
              "      <td>145</td>\n",
              "      <td>130</td>\n",
              "      <td>120</td>\n",
              "      <td>Dragon</td>\n",
              "      <td>3</td>\n",
              "      <td>False</td>\n",
              "      <td>9.75</td>\n",
              "      <td>High</td>\n",
              "    </tr>\n",
              "    <tr>\n",
              "      <th>426</th>\n",
              "      <td>RayquazaMega Rayquaza</td>\n",
              "      <td>105</td>\n",
              "      <td>180</td>\n",
              "      <td>100</td>\n",
              "      <td>115</td>\n",
              "      <td>Dragon</td>\n",
              "      <td>3</td>\n",
              "      <td>True</td>\n",
              "      <td>9.75</td>\n",
              "      <td>High</td>\n",
              "    </tr>\n",
              "    <tr>\n",
              "      <th>552</th>\n",
              "      <td>Arceus</td>\n",
              "      <td>120</td>\n",
              "      <td>120</td>\n",
              "      <td>120</td>\n",
              "      <td>120</td>\n",
              "      <td>Normal</td>\n",
              "      <td>4</td>\n",
              "      <td>True</td>\n",
              "      <td>9.75</td>\n",
              "      <td>High</td>\n",
              "    </tr>\n",
              "  </tbody>\n",
              "</table>\n",
              "</div>"
            ],
            "text/plain": [
              "                        Name   HP  Attack  ...  Legendary  HADS_score Overall Status\n",
              "163      MewtwoMega Mewtwo X  106     190  ...       True        9.75           High\n",
              "409  SalamenceMega Salamence   95     145  ...      False        9.75           High\n",
              "426    RayquazaMega Rayquaza  105     180  ...       True        9.75           High\n",
              "552                   Arceus  120     120  ...       True        9.75           High\n",
              "\n",
              "[4 rows x 10 columns]"
            ]
          },
          "metadata": {},
          "execution_count": 98
        }
      ]
    },
    {
      "cell_type": "markdown",
      "metadata": {
        "id": "H5eVVkIeFGaL"
      },
      "source": [
        "4 Pokemon dengan nilai HADS tertinggi merupakan champion pokemon yang akan memiliki persentase menang lebih tinggi. Walaupun nilai HADS sama. Pemilihan pokemon ini bisa didasarkan pada individu atribut dimana mereka lebih unggul\n",
        "\n",
        "*   HP tertinggi: Arceus\n",
        "*   Attack tertinggi:  MewtowMega Mewtwo X\n",
        "*   Defense tertinggi: SalamenceMega Salamence\n",
        "*   Speed tercepat: MewtowMega Mewtwo X   \n"
      ]
    },
    {
      "cell_type": "code",
      "metadata": {
        "colab": {
          "base_uri": "https://localhost:8080/",
          "height": 377
        },
        "id": "FUD11K3c2-RO",
        "outputId": "982e1062-e374-4d6c-e55b-e58e16e191bb"
      },
      "source": [
        "#group by category dan count jumlah dan plot \n",
        "%matplotlib inline\n",
        "filtered_df.groupby(\"Overall Status\", sort=False)[\"Name\"].count().plot(kind=\"bar\")\n",
        "filtered_df.groupby(\"Overall Status\", sort=False)[\"Name\"].count()"
      ],
      "execution_count": 99,
      "outputs": [
        {
          "output_type": "execute_result",
          "data": {
            "text/plain": [
              "Overall Status\n",
              "Low     235\n",
              "Mid     461\n",
              "High    104\n",
              "Name: Name, dtype: int64"
            ]
          },
          "metadata": {},
          "execution_count": 99
        },
        {
          "output_type": "display_data",
          "data": {
            "image/png": "[encoded data removed]",
            "text/plain": [
              "<Figure size 432x288 with 1 Axes>"
            ]
          },
          "metadata": {
            "needs_background": "light"
          }
        }
      ]
    },
    {
      "cell_type": "markdown",
      "metadata": {
        "id": "T7DAhA4hGtci"
      },
      "source": [
        "Pokemon terbaik memang sedikit dan dapat dilihat bahwa yang memiliki atribut high paling sedikit, dan dunia pokemon didominasi oleh pokemon middle."
      ]
    },
    {
      "cell_type": "code",
      "metadata": {
        "colab": {
          "base_uri": "https://localhost:8080/",
          "height": 414
        },
        "id": "WN5PyiXf6GQA",
        "outputId": "bab78908-d5b1-424a-dfb7-d76b06965de7"
      },
      "source": [
        "#query category = high dan plot terhadap generasi\n",
        "filtered_df.query(\"`Overall Status` == 'High'\").groupby(\"Generation\", sort=False)[\"Name\"].count().plot(kind=\"bar\")\n",
        "filtered_df.query(\"`Overall Status` == 'High'\").groupby(\"Generation\", sort=False)[\"Name\"].count()"
      ],
      "execution_count": 100,
      "outputs": [
        {
          "output_type": "execute_result",
          "data": {
            "text/plain": [
              "Generation\n",
              "1    19\n",
              "2    12\n",
              "3    21\n",
              "4    22\n",
              "5    24\n",
              "6     6\n",
              "Name: Name, dtype: int64"
            ]
          },
          "metadata": {},
          "execution_count": 100
        },
        {
          "output_type": "display_data",
          "data": {
            "image/png": "[encoded data removed]",
            "text/plain": [
              "<Figure size 432x288 with 1 Axes>"
            ]
          },
          "metadata": {
            "needs_background": "light"
          }
        }
      ]
    },
    {
      "cell_type": "markdown",
      "metadata": {
        "id": "KTA1F4gQHJdl"
      },
      "source": [
        "Dari tabel berikut, generasi 5 memiliki jumlah pokemon terbanyak dengan attribut high. Ayo kita lihat lebih detil di generasi 5, type 1 apa yang mengdominasi dengan scroll kebawah."
      ]
    },
    {
      "cell_type": "code",
      "metadata": {
        "colab": {
          "base_uri": "https://localhost:8080/",
          "height": 296
        },
        "id": "mnsKvVl4_hVp",
        "outputId": "063f375b-1617-4c83-f7ee-9b24c1699710"
      },
      "source": [
        "#query category high dan generation 5 dan di group oleh type1 untuk melihat lebih detil di gen 5, type mana yang memiliki overall rating high paling banyak\n",
        "filtered_df.query(\"`Overall Status` == 'High' & Generation == '5'\").groupby(\"Type 1\", sort=False)[\"Name\"].count().plot()"
      ],
      "execution_count": 101,
      "outputs": [
        {
          "output_type": "execute_result",
          "data": {
            "text/plain": [
              "<matplotlib.axes._subplots.AxesSubplot at 0x7f7cdd879b90>"
            ]
          },
          "metadata": {},
          "execution_count": 101
        },
        {
          "output_type": "display_data",
          "data": {
            "image/png": "[encoded data removed]",
            "text/plain": [
              "<Figure size 432x288 with 1 Axes>"
            ]
          },
          "metadata": {
            "needs_background": "light"
          }
        }
      ]
    },
    {
      "cell_type": "markdown",
      "metadata": {
        "id": "hg7v8vuyIlxx"
      },
      "source": [
        "Dapat dilihat dalam generasi 5, tipe dragon adalah tipe yang jumlahnya paling banyak di category high. Sangat disarankan untuk menangkap tipe dragon."
      ]
    },
    {
      "cell_type": "code",
      "metadata": {
        "colab": {
          "base_uri": "https://localhost:8080/"
        },
        "id": "28nD739O_PDc",
        "outputId": "cb1d723c-41e3-46e1-ca6d-be4635453cd7"
      },
      "source": [
        "#query category = high, generation = 5, group by type dan legendary, dan count legendary true false\n",
        "filtered_df.query(\"`Overall Status` == 'High' & Generation == '5' \").groupby([\"Legendary\",\"Type 1\"], sort=False)[\"Name\"].count()"
      ],
      "execution_count": 102,
      "outputs": [
        {
          "output_type": "execute_result",
          "data": {
            "text/plain": [
              "Legendary  Type 1 \n",
              "True       Bug        0\n",
              "           Dark       0\n",
              "           Dragon     5\n",
              "           Flying     1\n",
              "           Grass      1\n",
              "           Ground     2\n",
              "           Normal     0\n",
              "           Psychic    1\n",
              "           Rock       1\n",
              "           Steel      1\n",
              "           Water      0\n",
              "False      Bug        2\n",
              "           Dark       1\n",
              "           Dragon     1\n",
              "           Flying     0\n",
              "           Grass      0\n",
              "           Ground     2\n",
              "           Normal     3\n",
              "           Psychic    0\n",
              "           Rock       1\n",
              "           Steel      0\n",
              "           Water      2\n",
              "Name: Name, dtype: int64"
            ]
          },
          "metadata": {},
          "execution_count": 102
        }
      ]
    },
    {
      "cell_type": "markdown",
      "metadata": {
        "id": "LJ1rfy0kI5gV"
      },
      "source": [
        "Diantara tipe dragon generasi 5 dengan category nilai HADS high ini, 5 diantaranya merupakan pokemon legendaris dan 1 yang bukan. Sehingga kemungkinan untuk menangkapnya menurun."
      ]
    },
    {
      "cell_type": "code",
      "metadata": {
        "colab": {
          "base_uri": "https://localhost:8080/",
          "height": 235
        },
        "id": "UTwrU5UJJQpy",
        "outputId": "c2c761fe-53f1-4e24-eb4b-400818618b92"
      },
      "source": [
        "filtered_df.query(\"`Overall Status` == 'High' & Generation == '5' & `Type 1` == 'Dragon' \")"
      ],
      "execution_count": 103,
      "outputs": [
        {
          "output_type": "execute_result",
          "data": {
            "text/html": [
              "<div>\n",
              "<style scoped>\n",
              "    .dataframe tbody tr th:only-of-type {\n",
              "        vertical-align: middle;\n",
              "    }\n",
              "\n",
              "    .dataframe tbody tr th {\n",
              "        vertical-align: top;\n",
              "    }\n",
              "\n",
              "    .dataframe thead th {\n",
              "        text-align: right;\n",
              "    }\n",
              "</style>\n",
              "<table border=\"1\" class=\"dataframe\">\n",
              "  <thead>\n",
              "    <tr style=\"text-align: right;\">\n",
              "      <th></th>\n",
              "      <th>Name</th>\n",
              "      <th>HP</th>\n",
              "      <th>Attack</th>\n",
              "      <th>Defense</th>\n",
              "      <th>Speed</th>\n",
              "      <th>Type 1</th>\n",
              "      <th>Generation</th>\n",
              "      <th>Legendary</th>\n",
              "      <th>HADS_score</th>\n",
              "      <th>Overall Status</th>\n",
              "    </tr>\n",
              "  </thead>\n",
              "  <tbody>\n",
              "    <tr>\n",
              "      <th>673</th>\n",
              "      <td>Haxorus</td>\n",
              "      <td>76</td>\n",
              "      <td>147</td>\n",
              "      <td>90</td>\n",
              "      <td>97</td>\n",
              "      <td>Dragon</td>\n",
              "      <td>5</td>\n",
              "      <td>False</td>\n",
              "      <td>8.50</td>\n",
              "      <td>High</td>\n",
              "    </tr>\n",
              "    <tr>\n",
              "      <th>706</th>\n",
              "      <td>Reshiram</td>\n",
              "      <td>100</td>\n",
              "      <td>120</td>\n",
              "      <td>100</td>\n",
              "      <td>90</td>\n",
              "      <td>Dragon</td>\n",
              "      <td>5</td>\n",
              "      <td>True</td>\n",
              "      <td>8.75</td>\n",
              "      <td>High</td>\n",
              "    </tr>\n",
              "    <tr>\n",
              "      <th>707</th>\n",
              "      <td>Zekrom</td>\n",
              "      <td>100</td>\n",
              "      <td>150</td>\n",
              "      <td>120</td>\n",
              "      <td>90</td>\n",
              "      <td>Dragon</td>\n",
              "      <td>5</td>\n",
              "      <td>True</td>\n",
              "      <td>9.25</td>\n",
              "      <td>High</td>\n",
              "    </tr>\n",
              "    <tr>\n",
              "      <th>710</th>\n",
              "      <td>Kyurem</td>\n",
              "      <td>125</td>\n",
              "      <td>130</td>\n",
              "      <td>90</td>\n",
              "      <td>95</td>\n",
              "      <td>Dragon</td>\n",
              "      <td>5</td>\n",
              "      <td>True</td>\n",
              "      <td>9.00</td>\n",
              "      <td>High</td>\n",
              "    </tr>\n",
              "    <tr>\n",
              "      <th>711</th>\n",
              "      <td>KyuremBlack Kyurem</td>\n",
              "      <td>125</td>\n",
              "      <td>170</td>\n",
              "      <td>100</td>\n",
              "      <td>95</td>\n",
              "      <td>Dragon</td>\n",
              "      <td>5</td>\n",
              "      <td>True</td>\n",
              "      <td>9.25</td>\n",
              "      <td>High</td>\n",
              "    </tr>\n",
              "    <tr>\n",
              "      <th>712</th>\n",
              "      <td>KyuremWhite Kyurem</td>\n",
              "      <td>125</td>\n",
              "      <td>120</td>\n",
              "      <td>90</td>\n",
              "      <td>95</td>\n",
              "      <td>Dragon</td>\n",
              "      <td>5</td>\n",
              "      <td>True</td>\n",
              "      <td>8.75</td>\n",
              "      <td>High</td>\n",
              "    </tr>\n",
              "  </tbody>\n",
              "</table>\n",
              "</div>"
            ],
            "text/plain": [
              "                   Name   HP  Attack  ...  Legendary  HADS_score Overall Status\n",
              "673             Haxorus   76     147  ...      False        8.50           High\n",
              "706            Reshiram  100     120  ...       True        8.75           High\n",
              "707              Zekrom  100     150  ...       True        9.25           High\n",
              "710              Kyurem  125     130  ...       True        9.00           High\n",
              "711  KyuremBlack Kyurem  125     170  ...       True        9.25           High\n",
              "712  KyuremWhite Kyurem  125     120  ...       True        8.75           High\n",
              "\n",
              "[6 rows x 10 columns]"
            ]
          },
          "metadata": {},
          "execution_count": 103
        }
      ]
    },
    {
      "cell_type": "markdown",
      "metadata": {
        "id": "W5l2AeBUKmMR"
      },
      "source": [
        "Berikut pokemon yang disarankan untuk ditangkap untuk generasi 5. Disarankan untuk main pokemon black and white (2010)"
      ]
    }
  ]
}