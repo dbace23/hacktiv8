{
  "nbformat": 4,
  "nbformat_minor": 0,
  "metadata": {
    "colab": {
      "name": "h8dsft_Linear_Algebra1.ipynb",
      "provenance": [],
      "collapsed_sections": [],
      "authorship_tag": "ABX9TyPR3rVYtrDKcyunxiDZJXSL",
      "include_colab_link": true
    },
    "kernelspec": {
      "name": "python3",
      "display_name": "Python 3"
    },
    "language_info": {
      "name": "python"
    }
  },
  "cells": [
    {
      "cell_type": "markdown",
      "metadata": {
        "id": "view-in-github",
        "colab_type": "text"
      },
      "source": [
        "<a href=\"https://colab.research.google.com/github/dbace23/hacktiv8/blob/main/h8dsft_Linear_Algebra1.ipynb\" target=\"_parent\"><img src=\"https://colab.research.google.com/assets/colab-badge.svg\" alt=\"Open In Colab\"/></a>"
      ]
    },
    {
      "cell_type": "code",
      "metadata": {
        "id": "hC4IebZuAzN9"
      },
      "source": [
        "#import library needed\n",
        "import numpy as np"
      ],
      "execution_count": 2,
      "outputs": []
    },
    {
      "cell_type": "markdown",
      "metadata": {
        "id": "pddiwZg_EE-Y"
      },
      "source": [
        "Membuat tensor dengan python\n",
        "\n",
        "$$ \\begin{bmatrix} \\begin{bmatrix} 23 & 50 \\\\ 7 & 12 \\ \\end{bmatrix} \\begin{bmatrix} 57 & 67 \\\\ 99 & 43 \\end{bmatrix} \\\\\\\\ \\begin{bmatrix} 75 & 21 \\\\ 57 & 12 \\ \\end{bmatrix} \\begin{bmatrix} 87 & 26 \\\\ 18 & 84 \\end{bmatrix} \\end{bmatrix} $$\n"
      ]
    },
    {
      "cell_type": "code",
      "metadata": {
        "colab": {
          "base_uri": "https://localhost:8080/"
        },
        "id": "ed3KhExeBJnw",
        "outputId": "938ef71e-5a88-4c87-aea8-70ed221b5e2d"
      },
      "source": [
        "#membuat tensor dengan python\n",
        "T=np.array([[23,50,7,12],\n",
        "            [57,67,99,43],\n",
        "            [75,21,57,12],\n",
        "            [87,26,18,84]\n",
        "])\n",
        "T"
      ],
      "execution_count": 3,
      "outputs": [
        {
          "output_type": "execute_result",
          "data": {
            "text/plain": [
              "array([[23, 50,  7, 12],\n",
              "       [57, 67, 99, 43],\n",
              "       [75, 21, 57, 12],\n",
              "       [87, 26, 18, 84]])"
            ]
          },
          "metadata": {},
          "execution_count": 3
        }
      ]
    },
    {
      "cell_type": "markdown",
      "metadata": {
        "id": "Is3dKxobENwA"
      },
      "source": [
        "Lakukan perkalian terhadap matrix berikut:\n",
        "\n",
        "$$ A = \\begin{bmatrix} 23 & 50 & 19 \\ 7 & 12 & 109 \\ 57 & 67 & 98 \\end{bmatrix} \\begin{bmatrix} 17 \\ 22 \\ 19 \\end{bmatrix} $$"
      ]
    },
    {
      "cell_type": "code",
      "metadata": {
        "colab": {
          "base_uri": "https://localhost:8080/"
        },
        "id": "RvyVyRAQEQtH",
        "outputId": "d4341064-0a16-409f-e0d2-50ade831a557"
      },
      "source": [
        "#membuat tensor dengan python\n",
        "A=np.array([[23,50,19],\n",
        "            [7,12,109],\n",
        "            [57,67,98],\n",
        "            [17,22,19]\n",
        "])\n",
        "A"
      ],
      "execution_count": 4,
      "outputs": [
        {
          "output_type": "execute_result",
          "data": {
            "text/plain": [
              "array([[ 23,  50,  19],\n",
              "       [  7,  12, 109],\n",
              "       [ 57,  67,  98],\n",
              "       [ 17,  22,  19]])"
            ]
          },
          "metadata": {},
          "execution_count": 4
        }
      ]
    },
    {
      "cell_type": "code",
      "metadata": {
        "colab": {
          "base_uri": "https://localhost:8080/"
        },
        "id": "V9k7Ha2mE6Vg",
        "outputId": "9c54f375-7f88-40ae-a9d2-0aa0e6057484"
      },
      "source": [
        "x =T@A\n",
        "x"
      ],
      "execution_count": 7,
      "outputs": [
        {
          "output_type": "execute_result",
          "data": {
            "text/plain": [
              "array([[ 1482,  2483,  6801],\n",
              "       [ 8154, 11233, 18905],\n",
              "       [ 5325,  8085,  9528],\n",
              "       [ 4637,  7716,  7847]])"
            ]
          },
          "metadata": {},
          "execution_count": 7
        }
      ]
    },
    {
      "cell_type": "markdown",
      "metadata": {
        "id": "7PCqTYHOFQbU"
      },
      "source": [
        "Lakukan Transpose, hitung determinan, dan inverse terhadap matrix dibawah ini:\n",
        "\n",
        "$$ \\begin{bmatrix} 23 & 50 & 19 \\ 7 & 12 & 109 \\ 57 & 67 & 98 \\end{bmatrix} $$"
      ]
    },
    {
      "cell_type": "code",
      "metadata": {
        "colab": {
          "base_uri": "https://localhost:8080/"
        },
        "id": "zWx58a7iFSIf",
        "outputId": "ab72b680-8bfd-40d2-d881-b2a7553b6151"
      },
      "source": [
        "#membuat tensor dengan python\n",
        "B=np.array([[23,50,19],\n",
        "            [7,12,109],\n",
        "            [57,67,98]\n",
        "])\n",
        "B"
      ],
      "execution_count": 8,
      "outputs": [
        {
          "output_type": "execute_result",
          "data": {
            "text/plain": [
              "array([[ 23,  50,  19],\n",
              "       [  7,  12, 109],\n",
              "       [ 57,  67,  98]])"
            ]
          },
          "metadata": {},
          "execution_count": 8
        }
      ]
    },
    {
      "cell_type": "code",
      "metadata": {
        "colab": {
          "base_uri": "https://localhost:8080/"
        },
        "id": "127zZBgyFmSN",
        "outputId": "8160f421-75dd-4584-df95-4c574f08df7e"
      },
      "source": [
        "#transpose\n",
        "BT= B.T\n",
        "BT"
      ],
      "execution_count": 10,
      "outputs": [
        {
          "output_type": "execute_result",
          "data": {
            "text/plain": [
              "array([[ 23,   7,  57],\n",
              "       [ 50,  12,  67],\n",
              "       [ 19, 109,  98]])"
            ]
          },
          "metadata": {},
          "execution_count": 10
        }
      ]
    },
    {
      "cell_type": "code",
      "metadata": {
        "colab": {
          "base_uri": "https://localhost:8080/"
        },
        "id": "_MZUDq8TFxG9",
        "outputId": "803e0c0a-9e94-410c-9207-b05f60bd3da9"
      },
      "source": [
        "#determinan\n",
        "from  numpy.linalg import det\n",
        "np.linalg.det(BT)"
      ],
      "execution_count": 11,
      "outputs": [
        {
          "output_type": "execute_result",
          "data": {
            "text/plain": [
              "131343.99999999997"
            ]
          },
          "metadata": {},
          "execution_count": 11
        }
      ]
    },
    {
      "cell_type": "code",
      "metadata": {
        "colab": {
          "base_uri": "https://localhost:8080/"
        },
        "id": "6DzZFK0sF3Tn",
        "outputId": "462d3a24-5179-4ff9-8563-7a29119ef835"
      },
      "source": [
        "np.linalg.inv(BT)"
      ],
      "execution_count": 12,
      "outputs": [
        {
          "output_type": "execute_result",
          "data": {
            "text/plain": [
              "array([[-0.0466485 ,  0.04208034, -0.00163692],\n",
              "       [-0.02761451,  0.00891552,  0.0099662 ],\n",
              "       [ 0.03975819, -0.01807467, -0.00056341]])"
            ]
          },
          "metadata": {},
          "execution_count": 12
        }
      ]
    }
  ]
}