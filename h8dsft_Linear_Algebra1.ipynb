{
  "nbformat": 4,
  "nbformat_minor": 0,
  "metadata": {
    "colab": {
      "name": "h8dsft_Linear_Algebra1.ipynb",
      "provenance": [],
      "authorship_tag": "ABX9TyNSUBD8DBEemI2JuV4/FjvH",
      "include_colab_link": true
    },
    "kernelspec": {
      "name": "python3",
      "display_name": "Python 3"
    },
    "language_info": {
      "name": "python"
    }
  },
  "cells": [
    {
      "cell_type": "markdown",
      "metadata": {
        "id": "view-in-github",
        "colab_type": "text"
      },
      "source": [
        "<a href=\"https://colab.research.google.com/github/dbace23/hacktiv8/blob/main/h8dsft_Linear_Algebra1.ipynb\" target=\"_parent\"><img src=\"https://colab.research.google.com/assets/colab-badge.svg\" alt=\"Open In Colab\"/></a>"
      ]
    },
    {
      "cell_type": "code",
      "metadata": {
        "colab": {
          "base_uri": "https://localhost:8080/"
        },
        "id": "fvOpnIeTY6r5",
        "outputId": "4c0f37c1-f6c7-4895-cf12-8ced5f72a020"
      },
      "source": [
        "import numpy as np\n",
        "#define as numpy array\n",
        "A =np.array([17,22,19])\n",
        "B=np.array([10,20,11])\n",
        "C=np.array([5,12,9])\n",
        "\n",
        "#rumus plus\n",
        "plus=A+B\n",
        "plus\n"
      ],
      "execution_count": 15,
      "outputs": [
        {
          "output_type": "execute_result",
          "data": {
            "text/plain": [
              "array([27, 42, 30])"
            ]
          },
          "metadata": {},
          "execution_count": 15
        }
      ]
    },
    {
      "cell_type": "code",
      "metadata": {
        "colab": {
          "base_uri": "https://localhost:8080/"
        },
        "id": "6gEb4wWYplw4",
        "outputId": "e5843210-e38d-4398-f225-5f1243867149"
      },
      "source": [
        "#minus function\n",
        "minus=B-C\n",
        "minus"
      ],
      "execution_count": 4,
      "outputs": [
        {
          "output_type": "execute_result",
          "data": {
            "text/plain": [
              "array([5, 8, 2])"
            ]
          },
          "metadata": {},
          "execution_count": 4
        }
      ]
    },
    {
      "cell_type": "code",
      "metadata": {
        "colab": {
          "base_uri": "https://localhost:8080/"
        },
        "id": "C2HbWDdUp_9m",
        "outputId": "a46411cc-1a3a-4681-aa9d-af58d65c5582"
      },
      "source": [
        "#dot function\n",
        "A.dot(C)"
      ],
      "execution_count": 5,
      "outputs": [
        {
          "output_type": "execute_result",
          "data": {
            "text/plain": [
              "520"
            ]
          },
          "metadata": {},
          "execution_count": 5
        }
      ]
    },
    {
      "cell_type": "code",
      "metadata": {
        "colab": {
          "base_uri": "https://localhost:8080/"
        },
        "id": "pc5i_V-IqJuV",
        "outputId": "ef513657-9363-4d10-e2aa-f945ca7a5cbb"
      },
      "source": [
        "#times function\n",
        "times=A*B\n",
        "times"
      ],
      "execution_count": 6,
      "outputs": [
        {
          "output_type": "execute_result",
          "data": {
            "text/plain": [
              "array([170, 440, 209])"
            ]
          },
          "metadata": {},
          "execution_count": 6
        }
      ]
    },
    {
      "cell_type": "code",
      "metadata": {
        "colab": {
          "base_uri": "https://localhost:8080/"
        },
        "id": "PrUDvFngqbvf",
        "outputId": "a9c0f094-9274-4ede-c87f-0d92fe028214"
      },
      "source": [
        "#norm function\n",
        "#import module \n",
        "import numpy.linalg as LA\n",
        "#function norm and round 2 decimals\n",
        "round(LA.norm(A),2)"
      ],
      "execution_count": 8,
      "outputs": [
        {
          "output_type": "execute_result",
          "data": {
            "text/plain": [
              "33.67"
            ]
          },
          "metadata": {},
          "execution_count": 8
        }
      ]
    },
    {
      "cell_type": "code",
      "metadata": {
        "colab": {
          "base_uri": "https://localhost:8080/"
        },
        "id": "X6FjfW7SqwMo",
        "outputId": "5546a490-5ec0-4055-bd28-ffe84457d70a"
      },
      "source": [
        "#sudut antara vektor A dan B\n",
        "#function for getting radian\n",
        "def vector_angle(A, B):\n",
        "    cos_theta = A.dot(B) / LA.norm(A) / LA.norm(B)\n",
        "    return np.arccos(np.clip(cos_theta, -1, 1))\n",
        "\n",
        "#run function\n",
        "theta = vector_angle(A, B)\n",
        "print(\"Angle =\", round(theta,2), \"radians\")\n",
        "print(\"      =\", round(theta * 180 / np.pi,2), \"degrees\")"
      ],
      "execution_count": 11,
      "outputs": [
        {
          "output_type": "stream",
          "name": "stdout",
          "text": [
            "Angle = 0.22 radians\n",
            "      = 12.59 degrees\n"
          ]
        }
      ]
    },
    {
      "cell_type": "code",
      "metadata": {
        "colab": {
          "base_uri": "https://localhost:8080/",
          "height": 265
        },
        "id": "EmIMVKZ2v7ib",
        "outputId": "395c8fb7-07a5-4e09-c235-7e83890d05ff"
      },
      "source": [
        "##soal: plot array baru\n",
        "#buat array \n",
        "a =np.array([2,5])\n",
        "b =np.array([3,1])\n",
        "\n",
        "##plot array A,B,C\n",
        "#import module for plot\n",
        "%matplotlib inline\n",
        "import matplotlib.pyplot as plt\n",
        "\n",
        "#gabung file untuk x dan y cordinat\n",
        "xCoor,yCoor = zip(a,b)\n",
        "#buat scatter map\n",
        "plt.scatter(xCoor,yCoor,color=[\"r\",\"b\"])\n",
        "plt.grid()\n",
        "plt.show()\n",
        "\n",
        "\n",
        "\n"
      ],
      "execution_count": 23,
      "outputs": [
        {
          "output_type": "display_data",
          "data": {
            "image/png": "[encoded data removed]",
            "text/plain": [
              "<Figure size 432x288 with 1 Axes>"
            ]
          },
          "metadata": {
            "needs_background": "light"
          }
        }
      ]
    },
    {
      "cell_type": "code",
      "metadata": {
        "colab": {
          "base_uri": "https://localhost:8080/",
          "height": 269
        },
        "id": "1_SptzBArtMl",
        "outputId": "13f13fdf-6547-4ef6-9d24-6eaf6e23d97c"
      },
      "source": [
        "##plot array A,B,C\n",
        "#import module for plot\n",
        "%matplotlib inline\n",
        "import matplotlib.pyplot as plt\n",
        "\n",
        "#x y z axis\n",
        "x_coords, y_coords, z_coords = zip(A,B,C)\n",
        "#membuat figure baru\n",
        "plt.figure()\n",
        "#menarik instance dari axis atau buat baru\n",
        "ax = plt.gca()\n",
        "#membuat quiver graph yang menonjolkan vector sebagai garis\n",
        "ax.quiver(A,B,C, angles='xy', scale_units='xy', scale=1, color=['red', 'green', 'yellow'])\n",
        "#set batas garis x y figure\n",
        "ax.set_xlim([-1, 25])\n",
        "ax.set_ylim([-1, 25])\n",
        "plt.draw()\n",
        "plt.show()"
      ],
      "execution_count": 22,
      "outputs": [
        {
          "output_type": "display_data",
          "data": {
            "image/png": "[encoded data removed]",
            "text/plain": [
              "<Figure size 432x288 with 1 Axes>"
            ]
          },
          "metadata": {
            "needs_background": "light"
          }
        }
      ]
    }
  ]
}