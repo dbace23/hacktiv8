{
  "nbformat": 4,
  "nbformat_minor": 0,
  "metadata": {
    "colab": {
      "name": "h8dsft_Linear_Algebra3.ipynb",
      "provenance": [],
      "authorship_tag": "ABX9TyMUYIqsHTPOVT3j2TtLFCb0",
      "include_colab_link": true
    },
    "kernelspec": {
      "name": "python3",
      "display_name": "Python 3"
    },
    "language_info": {
      "name": "python"
    }
  },
  "cells": [
    {
      "cell_type": "markdown",
      "metadata": {
        "id": "view-in-github",
        "colab_type": "text"
      },
      "source": [
        "<a href=\"https://colab.research.google.com/github/dbace23/hacktiv8/blob/main/h8dsft_Linear_Algebra3.ipynb\" target=\"_parent\"><img src=\"https://colab.research.google.com/assets/colab-badge.svg\" alt=\"Open In Colab\"/></a>"
      ]
    },
    {
      "cell_type": "markdown",
      "metadata": {
        "id": "jMk4t8n7Goqt"
      },
      "source": [
        "Apakah $\\begin{bmatrix}1 \\\\3\\end{bmatrix}$ adalah eigenvector dari $\\begin{bmatrix}1 & -1\\\\6 &-4 \\end{bmatrix}$? Jika iya, berapakah eigenvalue-nya?"
      ]
    },
    {
      "cell_type": "code",
      "metadata": {
        "id": "a6LfvgyGGxMz"
      },
      "source": [
        "#import library needed\n",
        "import numpy as np\n",
        "import matplotlib.pyplot as plt\n",
        "import numpy.linalg as la"
      ],
      "execution_count": 21,
      "outputs": []
    },
    {
      "cell_type": "code",
      "metadata": {
        "id": "Y0J89-WZHBzX"
      },
      "source": [
        "#membuat array dengan python\n",
        "A=np.array([[1,-1],[6,-4]])\n",
        "v=np.array([[1],[3]])\n"
      ],
      "execution_count": 34,
      "outputs": []
    },
    {
      "cell_type": "markdown",
      "metadata": {
        "id": "tZvyks_yKgGx"
      },
      "source": [
        "if v is an eigenvector of A, then we have Av=λv"
      ]
    },
    {
      "cell_type": "code",
      "metadata": {
        "colab": {
          "base_uri": "https://localhost:8080/"
        },
        "id": "DDJKtlvlJHna",
        "outputId": "7ffab4b5-fcfb-4d12-f709-b9175f2a9575"
      },
      "source": [
        "Av=A.dot(v)\n",
        "Av"
      ],
      "execution_count": 33,
      "outputs": [
        {
          "output_type": "execute_result",
          "data": {
            "text/plain": [
              "array([[-2],\n",
              "       [-6]])"
            ]
          },
          "metadata": {},
          "execution_count": 33
        }
      ]
    },
    {
      "cell_type": "markdown",
      "metadata": {
        "id": "_YZSe1KOMvZi"
      },
      "source": [
        " Av=$\\begin{bmatrix}1 & -1\\\\6 &-4 \\end{bmatrix}$$\\begin{bmatrix}1 \\\\3\\end{bmatrix}$= $\\begin{bmatrix}-2\\\\ 6\\end{bmatrix}$= -3v"
      ]
    },
    {
      "cell_type": "markdown",
      "metadata": {
        "id": "CwhNmmb_LilT"
      },
      "source": [
        "v adalah eigenvector dari A karena merupakan multiple dari v,  dengan eigenvalue λ =-3"
      ]
    }
  ]
}