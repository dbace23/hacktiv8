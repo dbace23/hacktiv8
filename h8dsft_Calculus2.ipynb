{
  "nbformat": 4,
  "nbformat_minor": 0,
  "metadata": {
    "colab": {
      "name": "h8dsft_Calculus2.ipynb",
      "provenance": [],
      "authorship_tag": "ABX9TyMc8SARLm0uqLOhqqq5BS7m",
      "include_colab_link": true
    },
    "kernelspec": {
      "name": "python3",
      "display_name": "Python 3"
    },
    "language_info": {
      "name": "python"
    }
  },
  "cells": [
    {
      "cell_type": "markdown",
      "metadata": {
        "id": "view-in-github",
        "colab_type": "text"
      },
      "source": [
        "<a href=\"https://colab.research.google.com/github/dbace23/hacktiv8/blob/main/h8dsft_Calculus2.ipynb\" target=\"_parent\"><img src=\"https://colab.research.google.com/assets/colab-badge.svg\" alt=\"Open In Colab\"/></a>"
      ]
    },
    {
      "cell_type": "code",
      "metadata": {
        "id": "E6MR-w1uZGuh"
      },
      "source": [
        "#import library\n",
        "import sympy as sy\n",
        "#define x as symbol\n",
        "x= sy.Symbol(\"x\")"
      ],
      "execution_count": 1,
      "outputs": []
    },
    {
      "cell_type": "code",
      "metadata": {
        "colab": {
          "base_uri": "https://localhost:8080/",
          "height": 38
        },
        "id": "ZEgs48bYZUp8",
        "outputId": "309f10f2-58ce-442d-b63c-318ab8082307"
      },
      "source": [
        "#define function\n",
        "f = 3*x**2 - 6*x +3\n",
        "f2= 8*x**3-x**2+5*x-1\n",
        "f"
      ],
      "execution_count": 2,
      "outputs": [
        {
          "output_type": "execute_result",
          "data": {
            "text/latex": "$\\displaystyle 3 x^{2} - 6 x + 3$",
            "text/plain": [
              "3*x**2 - 6*x + 3"
            ]
          },
          "metadata": {},
          "execution_count": 2
        }
      ]
    },
    {
      "cell_type": "code",
      "metadata": {
        "colab": {
          "base_uri": "https://localhost:8080/",
          "height": 38
        },
        "id": "fGp1aU7AZuYC",
        "outputId": "860df6d4-30f1-4932-d106-1902352e2691"
      },
      "source": [
        "f2"
      ],
      "execution_count": 3,
      "outputs": [
        {
          "output_type": "execute_result",
          "data": {
            "text/latex": "$\\displaystyle 8 x^{3} - x^{2} + 5 x - 1$",
            "text/plain": [
              "8*x**3 - x**2 + 5*x - 1"
            ]
          },
          "metadata": {},
          "execution_count": 3
        }
      ]
    },
    {
      "cell_type": "code",
      "metadata": {
        "colab": {
          "base_uri": "https://localhost:8080/",
          "height": 38
        },
        "id": "Q9h5jxu7Z5kR",
        "outputId": "63c9519e-864f-48fb-895c-78c74a27217f"
      },
      "source": [
        "#integral f\n",
        "fIn = sy.integrate(f)\n",
        "fIn\n",
        "#+c"
      ],
      "execution_count": 5,
      "outputs": [
        {
          "output_type": "execute_result",
          "data": {
            "text/latex": "$\\displaystyle x^{3} - 3 x^{2} + 3 x$",
            "text/plain": [
              "x**3 - 3*x**2 + 3*x"
            ]
          },
          "metadata": {},
          "execution_count": 5
        }
      ]
    },
    {
      "cell_type": "code",
      "metadata": {
        "colab": {
          "base_uri": "https://localhost:8080/",
          "height": 54
        },
        "id": "XfQNoz7uaIGK",
        "outputId": "44497ad4-fbe1-42fc-fab7-74e33e638fc7"
      },
      "source": [
        "#integral f2\n",
        "f2In = sy.integrate(f2)\n",
        "f2In"
      ],
      "execution_count": 6,
      "outputs": [
        {
          "output_type": "execute_result",
          "data": {
            "text/latex": "$\\displaystyle 2 x^{4} - \\frac{x^{3}}{3} + \\frac{5 x^{2}}{2} - x$",
            "text/plain": [
              "2*x**4 - x**3/3 + 5*x**2/2 - x"
            ]
          },
          "metadata": {},
          "execution_count": 6
        }
      ]
    }
  ]
}