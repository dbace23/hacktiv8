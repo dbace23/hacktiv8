{
  "nbformat": 4,
  "nbformat_minor": 0,
  "metadata": {
    "colab": {
      "name": "h8dsft_Calculus3.ipynb",
      "provenance": [],
      "authorship_tag": "ABX9TyNyHJPoLQaIdZsEtMC1UpIZ",
      "include_colab_link": true
    },
    "kernelspec": {
      "name": "python3",
      "display_name": "Python 3"
    },
    "language_info": {
      "name": "python"
    }
  },
  "cells": [
    {
      "cell_type": "markdown",
      "metadata": {
        "id": "view-in-github",
        "colab_type": "text"
      },
      "source": [
        "<a href=\"https://colab.research.google.com/github/dbace23/hacktiv8/blob/main/h8dsft_Calculus3.ipynb\" target=\"_parent\"><img src=\"https://colab.research.google.com/assets/colab-badge.svg\" alt=\"Open In Colab\"/></a>"
      ]
    },
    {
      "cell_type": "markdown",
      "metadata": {
        "id": "618nbUlNU3kv"
      },
      "source": [
        "Carilah gradient dari sebuah fungsi:\n",
        "3x+4y=5"
      ]
    },
    {
      "cell_type": "code",
      "metadata": {
        "colab": {
          "base_uri": "https://localhost:8080/",
          "height": 38
        },
        "id": "lDjQA_cxU7tM",
        "outputId": "35e64225-9a7d-4474-eebb-c63e0110edae"
      },
      "source": [
        "#redefine function as 3x+4y-5=0 \n",
        "# 3x-5=4y\n",
        "# 3x/4-5/4 =y\n",
        "#f(x) = 3/4x -5/4\n",
        "\n",
        "#import library\n",
        "import sympy as sy\n",
        "#define fucntion as symbol\n",
        "x = sy.Symbol(\"x\", real =True)\n",
        "y = 3/4*x -5/4\n",
        "y"
      ],
      "execution_count": 4,
      "outputs": [
        {
          "output_type": "execute_result",
          "data": {
            "text/latex": "$\\displaystyle 0.75 x - 1.25$",
            "text/plain": [
              "0.75*x - 1.25"
            ]
          },
          "metadata": {},
          "execution_count": 4
        }
      ]
    },
    {
      "cell_type": "code",
      "metadata": {
        "colab": {
          "base_uri": "https://localhost:8080/",
          "height": 37
        },
        "id": "BOenYay8V42F",
        "outputId": "45e9dfd3-7d25-4382-c6e3-adf5d9dfb50c"
      },
      "source": [
        "#gradient from numerical\n",
        "import numpy as np\n",
        "fxGrad = sy.diff(y)\n",
        "fxGrad"
      ],
      "execution_count": 12,
      "outputs": [
        {
          "output_type": "execute_result",
          "data": {
            "text/latex": "$\\displaystyle 0.75$",
            "text/plain": [
              "0.750000000000000"
            ]
          },
          "metadata": {},
          "execution_count": 12
        }
      ]
    }
  ]
}