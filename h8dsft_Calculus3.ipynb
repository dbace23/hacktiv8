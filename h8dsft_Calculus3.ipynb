{
  "nbformat": 4,
  "nbformat_minor": 0,
  "metadata": {
    "colab": {
      "name": "h8dsft_Calculus3.ipynb",
      "provenance": [],
      "authorship_tag": "ABX9TyMqivVmSHdsS1Hxz6AxSuWB",
      "include_colab_link": true
    },
    "kernelspec": {
      "name": "python3",
      "display_name": "Python 3"
    },
    "language_info": {
      "name": "python"
    }
  },
  "cells": [
    {
      "cell_type": "markdown",
      "metadata": {
        "id": "view-in-github",
        "colab_type": "text"
      },
      "source": [
        "<a href=\"https://colab.research.google.com/github/dbace23/hacktiv8/blob/main/h8dsft_Calculus3.ipynb\" target=\"_parent\"><img src=\"https://colab.research.google.com/assets/colab-badge.svg\" alt=\"Open In Colab\"/></a>"
      ]
    },
    {
      "cell_type": "markdown",
      "metadata": {
        "id": "618nbUlNU3kv"
      },
      "source": [
        "Carilah gradient dari sebuah fungsi:\n",
        "3x+4y=5"
      ]
    },
    {
      "cell_type": "code",
      "metadata": {
        "colab": {
          "base_uri": "https://localhost:8080/",
          "height": 38
        },
        "id": "lDjQA_cxU7tM",
        "outputId": "3310caef-ae91-405c-ea3d-00aeb2ceeaea"
      },
      "source": [
        "#redefine function as 3x+4y-5=0 \n",
        "# 3x-5=4y\n",
        "# 3x/4-5/4 =y\n",
        "#f(x) = 3/4x -5/4\n",
        "\n",
        "#import library\n",
        "import sympy as sy\n",
        "#define fucntion as symbol\n",
        "x = sy.Symbol(\"x\", real =True)\n",
        "fx = 3/4*x -5/4\n",
        "fx"
      ],
      "execution_count": 19,
      "outputs": [
        {
          "output_type": "execute_result",
          "data": {
            "text/latex": "$\\displaystyle 0.75 x - 1.25$",
            "text/plain": [
              "0.75*x - 1.25"
            ]
          },
          "metadata": {},
          "execution_count": 19
        }
      ]
    },
    {
      "cell_type": "code",
      "metadata": {
        "colab": {
          "base_uri": "https://localhost:8080/",
          "height": 37
        },
        "id": "BOenYay8V42F",
        "outputId": "3dc3476a-223d-4b44-cb6d-ba1178ea3cdf"
      },
      "source": [
        "#gradient \n",
        "fxGrad = sy.diff(fx)\n",
        "fxGrad"
      ],
      "execution_count": 20,
      "outputs": [
        {
          "output_type": "execute_result",
          "data": {
            "text/latex": "$\\displaystyle 0.75$",
            "text/plain": [
              "0.750000000000000"
            ]
          },
          "metadata": {},
          "execution_count": 20
        }
      ]
    },
    {
      "cell_type": "code",
      "metadata": {
        "colab": {
          "base_uri": "https://localhost:8080/",
          "height": 38
        },
        "id": "9k94ubC_en8p",
        "outputId": "58c96d73-c13b-4814-b9d7-040bd012b17b"
      },
      "source": [
        "#partial deriavative\n",
        "x,y = sy.symbols(\"x y \")\n",
        "fxy = 3*x+4*y-5\n",
        "fxy\n"
      ],
      "execution_count": 24,
      "outputs": [
        {
          "output_type": "execute_result",
          "data": {
            "text/latex": "$\\displaystyle 3 x + 4 y - 5$",
            "text/plain": [
              "3*x + 4*y - 5"
            ]
          },
          "metadata": {},
          "execution_count": 24
        }
      ]
    },
    {
      "cell_type": "code",
      "metadata": {
        "colab": {
          "base_uri": "https://localhost:8080/",
          "height": 38
        },
        "id": "l8tlnxTzfrQq",
        "outputId": "e3681a8b-a595-458b-bb86-86b3e7f6e92a"
      },
      "source": [
        "#get gradien\n",
        "from sympy.tensor.array import derive_by_array\n",
        "grad = derive_by_array(fxy,(x,y))\n",
        "grad"
      ],
      "execution_count": 28,
      "outputs": [
        {
          "output_type": "execute_result",
          "data": {
            "text/latex": "$\\displaystyle \\left[\\begin{matrix}3 & 4\\end{matrix}\\right]$",
            "text/plain": [
              "[3, 4]"
            ]
          },
          "metadata": {},
          "execution_count": 28
        }
      ]
    }
  ]
}