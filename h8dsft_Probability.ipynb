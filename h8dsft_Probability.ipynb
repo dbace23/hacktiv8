{
  "nbformat": 4,
  "nbformat_minor": 0,
  "metadata": {
    "colab": {
      "name": "h8dsft_Probability.ipynb",
      "provenance": [],
      "authorship_tag": "ABX9TyMKOe4tesl8qr9sWH9nE2Vh",
      "include_colab_link": true
    },
    "kernelspec": {
      "name": "python3",
      "display_name": "Python 3"
    },
    "language_info": {
      "name": "python"
    }
  },
  "cells": [
    {
      "cell_type": "markdown",
      "metadata": {
        "id": "view-in-github",
        "colab_type": "text"
      },
      "source": [
        "<a href=\"https://colab.research.google.com/github/dbace23/hacktiv8/blob/main/h8dsft_Probability.ipynb\" target=\"_parent\"><img src=\"https://colab.research.google.com/assets/colab-badge.svg\" alt=\"Open In Colab\"/></a>"
      ]
    },
    {
      "cell_type": "markdown",
      "metadata": {
        "id": "5j7soDgHK5AC"
      },
      "source": [
        "Buatlah sebuah kode untuk mensimulasikan melempar koin sebanyak 50.000 kali dengan assign value random berupa 0 dan 1 untuk kepala atau ekor. Setiap kali koin dilempar, peluang untuk mendapatkan kepala atau ekor adalah 50%."
      ]
    },
    {
      "cell_type": "code",
      "metadata": {
        "id": "aLmvMLLDlT37"
      },
      "source": [
        "#import library\n",
        "import numpy as np"
      ],
      "execution_count": 2,
      "outputs": []
    },
    {
      "cell_type": "code",
      "metadata": {
        "colab": {
          "base_uri": "https://localhost:8080/"
        },
        "id": "ewVvijfNK-yj",
        "outputId": "f1cd63f0-d350-4e8d-fa43-ade0fe4f7bce"
      },
      "source": [
        "#probabilitas 50%\n",
        "probabilitas =.5\n",
        "\n",
        "#loop 50,000\n",
        "n = 50000\n",
        "\n",
        "#pencatatan hasil\n",
        "hasil = np.arange(n)\n",
        "\n",
        "def coinFlip(p):    \n",
        "    #melakukan binomial distribution (mengembalikan 0 or 1)    \n",
        "    hasil = np.random.binomial(1,p) \n",
        "       \n",
        "    #return hasil ke tempat pencatatan    \n",
        "    return hasil\n",
        "\n",
        "#melakkukan jumlah flip yang dibutuhkan \n",
        "for i in range(0, n):    \n",
        "    hasil[i] = coinFlip(probabilitas)    \n",
        "    i+=1\n",
        "\n",
        "#print hasil\n",
        "print(\"Probabilitas diatur: \", probabilitas)\n",
        "print(\"Tails = 0, Heads = 1: \", hasil)\n",
        "#Perhitungan heads dan tails \n",
        "print(\"Head Count: \", np.count_nonzero(hasil == 1))\n",
        "print(\"Tail Count: \", np.count_nonzero(hasil == 0))"
      ],
      "execution_count": 7,
      "outputs": [
        {
          "output_type": "stream",
          "name": "stdout",
          "text": [
            "Probabilitas diatur:  0.5\n",
            "Tails = 0, Heads = 1:  [1 1 1 ... 0 1 1]\n",
            "Head Count:  24922\n",
            "Tail Count:  25078\n"
          ]
        }
      ]
    }
  ]
}