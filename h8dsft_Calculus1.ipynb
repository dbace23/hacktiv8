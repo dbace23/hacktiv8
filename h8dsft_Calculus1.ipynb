{
  "nbformat": 4,
  "nbformat_minor": 0,
  "metadata": {
    "colab": {
      "name": "h8dsft_Calculus1.ipynb",
      "provenance": [],
      "authorship_tag": "ABX9TyMD71Ag9V9Nlek04c210zEe",
      "include_colab_link": true
    },
    "kernelspec": {
      "name": "python3",
      "display_name": "Python 3"
    },
    "language_info": {
      "name": "python"
    }
  },
  "cells": [
    {
      "cell_type": "markdown",
      "metadata": {
        "id": "view-in-github",
        "colab_type": "text"
      },
      "source": [
        "<a href=\"https://colab.research.google.com/github/dbace23/hacktiv8/blob/main/h8dsft_Calculus1.ipynb\" target=\"_parent\"><img src=\"https://colab.research.google.com/assets/colab-badge.svg\" alt=\"Open In Colab\"/></a>"
      ]
    },
    {
      "cell_type": "code",
      "metadata": {
        "id": "vayGsvtlTS5e"
      },
      "source": [
        "#library yang digunakan \n",
        "import sympy as sy"
      ],
      "execution_count": 2,
      "outputs": []
    },
    {
      "cell_type": "code",
      "metadata": {
        "id": "SzbhPPPTTeC2"
      },
      "source": [
        "#define functions as symbols\n",
        "x,y = sy.symbols(\"x y\")\n",
        "fx = x**2+2*x+1\n",
        "fx2 = 4*x**3+3*x**2+2*x-1"
      ],
      "execution_count": 3,
      "outputs": []
    },
    {
      "cell_type": "code",
      "metadata": {
        "colab": {
          "base_uri": "https://localhost:8080/",
          "height": 38
        },
        "id": "j93HdGoXUPZ0",
        "outputId": "05f724cf-ad56-45d4-f5db-1ae4d23cd74d"
      },
      "source": [
        "fx"
      ],
      "execution_count": 4,
      "outputs": [
        {
          "output_type": "execute_result",
          "data": {
            "text/latex": "$\\displaystyle x^{2} + 2 x + 1$",
            "text/plain": [
              "x**2 + 2*x + 1"
            ]
          },
          "metadata": {},
          "execution_count": 4
        }
      ]
    },
    {
      "cell_type": "code",
      "metadata": {
        "colab": {
          "base_uri": "https://localhost:8080/",
          "height": 38
        },
        "id": "3NaDTmPTUVF1",
        "outputId": "8fb1cc81-5e3b-43a1-fa29-5c3ba539f533"
      },
      "source": [
        "fx2"
      ],
      "execution_count": 5,
      "outputs": [
        {
          "output_type": "execute_result",
          "data": {
            "text/latex": "$\\displaystyle 4 x^{3} + 3 x^{2} + 2 x - 1$",
            "text/plain": [
              "4*x**3 + 3*x**2 + 2*x - 1"
            ]
          },
          "metadata": {},
          "execution_count": 5
        }
      ]
    },
    {
      "cell_type": "code",
      "metadata": {
        "colab": {
          "base_uri": "https://localhost:8080/",
          "height": 38
        },
        "id": "THy7Y0yhUW39",
        "outputId": "e48a2fa1-f178-405f-815a-92a74349e617"
      },
      "source": [
        "#derivative fx\n",
        "fx.diff(x)"
      ],
      "execution_count": 6,
      "outputs": [
        {
          "output_type": "execute_result",
          "data": {
            "text/latex": "$\\displaystyle 2 x + 2$",
            "text/plain": [
              "2*x + 2"
            ]
          },
          "metadata": {},
          "execution_count": 6
        }
      ]
    },
    {
      "cell_type": "code",
      "metadata": {
        "colab": {
          "base_uri": "https://localhost:8080/",
          "height": 38
        },
        "id": "guyOb0kBUiUU",
        "outputId": "9b138a64-fbdf-4b28-b6f2-7f5bb401b64b"
      },
      "source": [
        "#derivative fx2\n",
        "fx2.diff(x)"
      ],
      "execution_count": 7,
      "outputs": [
        {
          "output_type": "execute_result",
          "data": {
            "text/latex": "$\\displaystyle 12 x^{2} + 6 x + 2$",
            "text/plain": [
              "12*x**2 + 6*x + 2"
            ]
          },
          "metadata": {},
          "execution_count": 7
        }
      ]
    }
  ]
}